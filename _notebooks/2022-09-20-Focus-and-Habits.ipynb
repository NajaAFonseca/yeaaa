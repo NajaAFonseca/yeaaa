{
 "cells": [
  {
   "cell_type": "markdown",
   "metadata": {},
   "source": [
    "# \"Focus and Habits Notes\"\n",
    "> Notes from the yale video.\n",
    "\n",
    "- toc: true\n",
    "- branch: master\n",
    "- badges: true\n",
    "- comments: true\n",
    "- author: Naja Fonseca\n",
    "- categories: [markdown, jupyter]"
   ]
  },
  {
   "cell_type": "markdown",
   "metadata": {},
   "source": [
    "## Video Notes\n",
    "- Students are too stressed to do things they enjoy\n",
    "- Studnets feel lonely\n",
    "- Over 40% of students experience above the average level of stress\n",
    "- 1/3 of students feel too deppressed to function\n",
    "- Over 40% of students feel hopeless\n",
    "- 60% of students feel overwhelming anxiety\n",
    "- Over 50% of students feel very, very lonely\n",
    "- Over 80% feel overwhelmed with all that they have to do\n",
    "- Knowledge without application means nothing\n",
    "- Our behaviors a ffect our happiness\n",
    "- Cognitive Bias = GI Joe Fallacy\n",
    "- Happier people spend more times with others\n",
    "- Interacting with others makes you happier\n",
    "- Spending more time alone makes you less happy\n",
    "- Writing down that makes you grateful everyday can increase happiness\n",
    "- Expressing your gratitude makes people happier\n",
    "- Healthy practices improve happiness\n",
    "- Sleep is very important\n",
    "- It's important to pay attention to what you're doing, ask yourself if you are in the present momenet\n",
    "\n",
    "\n",
    "## Important Studies and Sciences\n",
    "- The Study of Happy People\n",
    "- The Study of behavioral change\n",
    "- Science of Psychology\n",
    "\n",
    "## Top 10 Insights from The Science of Psychology and the Good Life\n",
    "1. You do not have to be stuck in a state of well-being, you can always improve it\n",
    "2. Things like where we live, what job we have, our salary,  etc. do not matter as much as we think\n",
    "3. Taking control of your life may not bring you to happiness, but following the habits of happy people can improve your well-being\n",
    "4. Recognizing that your mind is a liar and your intuition cannot be trusted when it comes to what happiness is\n",
    "5. Spending time with others makes you happier\n",
    "6. Helping others help us more than some people expect\n",
    "7. Make time for gratitude every single day\n",
    "8. Healthy practices more than we think\n",
    "9. Notice all good things in your life\n",
    "10. It's important to be wealthy but in time\n",
    "\n",
    "## Gratitude Blog\n",
    "\n",
    "### Gratefulness on Campus\n",
    "\n",
    "I'm very grateful for my very cool teacher Mr. Yeung. I totally would have dropped this class if it wasn't for the info I was gaining out of him. Haha, just kidding, I really like him as a brutally honest person and I enjoy eating lunch and having class with Mr. Yeung. I also am grateful that we have common interests, such as cross country that makes it easier to talk to Mr. Yeung without being scared of him. \n",
    "\n",
    "## Goals\n",
    "\n",
    "1. My first goal is to be a better runner.\n",
    "2. My second goal is to make it through this class.\n",
    "3. My third goal is to become a happier person.\n",
    "4. My fourth goal is to make a better connection with my brother.\n",
    "5. My fifth goal is to do good in school."
   ]
  }
 ],
 "metadata": {
  "kernelspec": {
   "display_name": "Python 3.10.4 64-bit",
   "language": "python",
   "name": "python3"
  },
  "language_info": {
   "name": "python",
   "version": "3.10.4"
  },
  "orig_nbformat": 4,
  "vscode": {
   "interpreter": {
    "hash": "aee8b7b246df8f9039afb4144a1f6fd8d2ca17a180786b69acc140d282b71a49"
   }
  }
 },
 "nbformat": 4,
 "nbformat_minor": 2
}
