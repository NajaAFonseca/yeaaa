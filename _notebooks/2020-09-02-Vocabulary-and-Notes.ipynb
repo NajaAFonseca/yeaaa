{
 "cells": [
  {
   "cell_type": "markdown",
   "metadata": {},
   "source": [
    "# \"Vocabulary and Notes for APCSP\"\n",
    "> If you can't rememember stuff, dont write it down, type it up!\n",
    "\n",
    "- toc: true\n",
    "- branch: master\n",
    "- badges: true\n",
    "- comments: true\n",
    "- author: Naja Fonseca\n",
    "- categories: [markdown, jupyter]"
   ]
  },
  {
   "cell_type": "markdown",
   "metadata": {},
   "source": [
    "## Notes + Vocabulary for Week 1\n",
    "\n",
    "Vocabulary:\n",
    "- Dynamic code: code that can change.\n",
    "- Static texts: unchanging code.\n",
    "- String: strings in python are surrounded by either single quotation marks, or double quotation marks.\n",
    "- Sequence of code: two or more lines of code form a sequence.\n",
    "\n",
    "Code:\n",
    "- Print(): outputs code, either strings, numbers, or variables.\n",
    "- Variables: Variables are containers for storing data values. A variable is created the moment you first assign a value to it."
   ]
  },
  {
   "cell_type": "markdown",
   "metadata": {},
   "source": [
    "### Introducing Python\n",
    "\n",
    "##### Print Functions and Vocab\n",
    "\n",
    "- In python, the first code you learn to print out is a hello world message.\n",
    "Example below:"
   ]
  },
  {
   "cell_type": "code",
   "execution_count": null,
   "metadata": {},
   "outputs": [],
   "source": [
    "print (\"Hello, World!\")"
   ]
  },
  {
   "cell_type": "markdown",
   "metadata": {},
   "source": [
    "- \"Hello, World\" is a string and strings are static texts.\n",
    "- Static texts are called static texts because they do not change.\n",
    "- The print command outputs the message \"Hello, World!\"\n",
    "- An output is the code that is displayed after it is run."
   ]
  },
  {
   "cell_type": "markdown",
   "metadata": {},
   "source": [
    "##### Variables, Inputs, and Outputs\n",
    "\n",
    "Variable example:"
   ]
  },
  {
   "cell_type": "code",
   "execution_count": 3,
   "metadata": {},
   "outputs": [
    {
     "name": "stdout",
     "output_type": "stream",
     "text": [
      "variable example\n"
     ]
    }
   ],
   "source": [
    "msg = \"variable example\"\n",
    "print (msg)"
   ]
  },
  {
   "cell_type": "markdown",
   "metadata": {},
   "source": [
    "\n",
    "In this code, the variable is \"variable example\" and when you input it as the variable name, \"msg,\" the print function outputs the input."
   ]
  },
  {
   "cell_type": "markdown",
   "metadata": {},
   "source": [
    "##### Functions\n",
    "\n",
    "A function is a block of code which only runs when it is called. You can pass data, known as parameters, into a function. A function can return data as a result.\n",
    "\n",
    "- functions are defined using the def keyword\n",
    "- To call a function, use the function name followed by paranthesis\n",
    "\n",
    "Example:"
   ]
  },
  {
   "cell_type": "code",
   "execution_count": 4,
   "metadata": {},
   "outputs": [
    {
     "name": "stdout",
     "output_type": "stream",
     "text": [
      "Hello from a function\n"
     ]
    }
   ],
   "source": [
    "def my_function():\n",
    "  print(\"Hello from a function\")\n",
    "\n",
    "my_function()"
   ]
  },
  {
   "cell_type": "markdown",
   "metadata": {},
   "source": [
    "##### Imports, Selection, and Logical Expressions\n",
    "\n",
    "In this example I am importing from a library called \"os\", this library extracts properties from the operating system of my existing system. Python and Jupyter docs requires you to reference imports and definitions above the referencing line of code.\n",
    "\n",
    "- Import os, sys obtain functions and variables from running environment\n",
    "- Print('Hello, ' + getpass.getuser() + \" running \" + sys.executable + \" on \" + sys.platform + \"!\"), is a concatenated statement that outputs properties from the import\n",
    "\n",
    " My example defines a new function \"question_with_response\", this function returns a value input by the user. This allows the programmer\n",
    " to evaluate the response. The purpose of obtaining the return value is to evaluate if the correct response was given to the question.\n",
    "\n",
    " - Response from \"question_with_response\" is captured in a variable called \"rsp\"\n",
    "    - return command in function returns msg input by user\n",
    "    - assignment to \"rsp\" is allowed a function is returning a value, names do not need to match (but could)\n",
    "\n",
    "- If command is next command in sequence after \"rsp\" assignment\n",
    "    - this command contains an expression, rsp == \"import\" which compare what is typed to the string literal answer\n",
    "    - an if expression is evaluated for true or false\n",
    "    - true takes branch of code directly under if\n",
    "    - false takes branch of code directly under else command\n",
    "\n",
    "- The grand finally of this example is calculating the right/total.\n",
    "    - question = 3 is defined as number of questions\n",
    "    - correct = 0 is defined as running score\n",
    "    - correct += 1 is the way to add one to the score, this code is placed in sequence under correct expression evaluation \n",
    "    - since question and correct are numbers, versus strings, to place them in concatenation in print statements you must inclose them in Python function str() which turns number into string.\n",
    "    - final print statement is concatenated and formatted to give user and right over wrong\n",
    "\n",
    "My Python Quiz Example:"
   ]
  },
  {
   "cell_type": "code",
   "execution_count": 1,
   "metadata": {},
   "outputs": [
    {
     "name": "stdout",
     "output_type": "stream",
     "text": [
      "Hey, najafonseca running /usr/local/bin/python3\n",
      "You will be asked 6 questions. Are you ready to take a fun test!? :D Respond with 'ok' to continue.\n",
      "Question: What command is used to include other functions that are developed?\n",
      "import is correct!\n",
      "Question: What command in this example is used to evaluate a response?\n",
      "if is correct!\n",
      "Question: Each 'if' command contains an '_________' to determine a true or false condition?\n",
      "expression is correct!\n",
      "The next 3 set of questions will be True or False. Please respond with either capital 'True' or 'False' Good luck and good job so far!\n",
      "Question: True or False: The print command outputs the paramater to the terminal.\n",
      "True is correct!\n",
      "Question: True or False: Output in Jupyter is below the code cell.\n",
      "True is correct!\n",
      "Question: True or False: Static text changes.\n",
      "False is correct!\n",
      "najafonseca you scored 6/6\n"
     ]
    }
   ],
   "source": [
    "import getpass, sys\n",
    "\n",
    "#create function question_with_response \n",
    "def question_with_response(prompt):\n",
    "    print(\"Question: \" + prompt)\n",
    "    msg = input()\n",
    "    return msg\n",
    "\n",
    "#create variables for questions and number of correct\n",
    "questions = 6\n",
    "correct = 0\n",
    "\n",
    "#create function question_and_answer\n",
    "def question_and_answer(prompt):\n",
    "    msg = input()\n",
    "    return msg\n",
    "\n",
    "#start quiz by saying hi to user and asking if they are ready to take the test\n",
    "print('Hey, ' + getpass.getuser() + \" running \" + sys.executable)\n",
    "print(\"You will be asked \" + str(questions) + \" questions. Are you ready to take a fun test!? :D Respond with 'ok' to continue.\")\n",
    "question_and_answer(\"Are you ready to take a fun test!?\")\n",
    "\n",
    "#ask first question\n",
    "rsp = question_with_response(\"What command is used to include other functions that are developed?\")\n",
    "\n",
    "#run command if correct add point\n",
    "if rsp == \"import\":\n",
    "    print(rsp + \" is correct!\")\n",
    "    correct += 1\n",
    "# run else command if incorrect, no point\n",
    "else:\n",
    "    print(rsp + \" is incorrect!\")\n",
    "\n",
    "#ask second question\n",
    "rsp = question_with_response(\"What command in this example is used to evaluate a response?\")\n",
    "\n",
    "#run command if correct add point\n",
    "if rsp == \"if\":\n",
    "    print(rsp + \" is correct!\")\n",
    "    correct += 1\n",
    "#run else command if incorrect, no point\n",
    "else:\n",
    "    print(rsp + \" is incorrect!\")\n",
    "\n",
    "#ask third question\n",
    "rsp = question_with_response(\"Each 'if' command contains an '_________' to determine a true or false condition?\")\n",
    "\n",
    "#run command if correct add point\n",
    "if rsp == \"expression\":\n",
    "    print(rsp + \" is correct!\")\n",
    "    correct += 1\n",
    "# run else command if incorrect, no point\n",
    "else:\n",
    "    print(rsp + \" is incorrect!\")\n",
    "    \n",
    "#Introduce what type of questions will be next\n",
    "print (\"The next 3 set of questions will be True or False. Please respond with either capital 'True' or 'False' Good luck and good job so far!\")\n",
    "    \n",
    "#ask fourth question\n",
    "rsp = question_with_response(\"True or False: The print command outputs the paramater to the terminal.\")\n",
    "\n",
    "#run command if correct add point\n",
    "if rsp == \"True\":\n",
    "    print(rsp + \" is correct!\")\n",
    "    correct += 1\n",
    "#run else command if incorrect, no point\n",
    "else:\n",
    "    print(rsp + \" is incorrect!\")\n",
    "    \n",
    "#ask fifth question\n",
    "rsp = question_with_response(\"True or False: Output in Jupyter is below the code cell.\")\n",
    "\n",
    "#run command if correct add point\n",
    "if rsp == \"True\":\n",
    "    print(rsp + \" is correct!\")\n",
    "    correct += 1\n",
    "#run else command if incorrect, no point\n",
    "else:\n",
    "    print(rsp + \" is incorrect!\")\n",
    "    \n",
    "#ask sixth question\n",
    "rsp = question_with_response(\"True or False: Static text changes.\")\n",
    "\n",
    "#run command if correct add point\n",
    "if rsp == \"False\":\n",
    "    print(rsp + \" is correct!\")\n",
    "    correct += 1\n",
    "#run else command if incorrect, no point\n",
    "else:\n",
    "    print(rsp + \" is incorrect!\")\n",
    "\n",
    "# tell user their score\n",
    "print(getpass.getuser() + \" you scored \" + str(correct) +\"/\" + str(questions))"
   ]
  }
 ],
 "metadata": {
  "kernelspec": {
   "display_name": "Python 3.10.4 64-bit",
   "language": "python",
   "name": "python3"
  },
  "language_info": {
   "codemirror_mode": {
    "name": "ipython",
    "version": 3
   },
   "file_extension": ".py",
   "mimetype": "text/x-python",
   "name": "python",
   "nbconvert_exporter": "python",
   "pygments_lexer": "ipython3",
   "version": "3.10.4"
  },
  "orig_nbformat": 4,
  "vscode": {
   "interpreter": {
    "hash": "aee8b7b246df8f9039afb4144a1f6fd8d2ca17a180786b69acc140d282b71a49"
   }
  }
 },
 "nbformat": 4,
 "nbformat_minor": 2
}
