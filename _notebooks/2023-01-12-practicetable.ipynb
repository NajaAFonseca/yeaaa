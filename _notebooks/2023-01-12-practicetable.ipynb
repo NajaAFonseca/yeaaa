{
 "cells": [
  {
   "cell_type": "code",
   "execution_count": null,
   "metadata": {},
   "outputs": [],
   "source": []
  },
  {
   "cell_type": "code",
   "execution_count": null,
   "metadata": {
    "vscode": {
     "languageId": "javascript"
    }
   },
   "outputs": [],
   "source": [
    "/*\n",
    "<table>\n",
    "    <tr>\n",
    "        <th><label for=\"name\">Name</label></th>\n",
    "        <th><label for=\"email\">Email</label></th>\n",
    "        <th><label for=\"password\">Password</label></th>\n",
    "        <th><label for=\"phone\">Phone</label></th>\n",
    "    </tr>\n",
    "    <tr>\n",
    "        <td><input type=\"text\" name=\"name\" id=\"name\" required></td>\n",
    "        <td><input type=\"email\" name=\"email\" id=\"email\" placeholder=\"abc@xyz.org\" required></td>\n",
    "        <td><input type=\"password\" name=\"password\" id=\"password\" required></td>\n",
    "        <td><input type=\"tel\" name=\"phone_num\" id=\"phone_num\"\n",
    "            pattern=\"[0-9]{3}-[0-9]{3}-[0-9]{4}\"\n",
    "            placeholder=\"999-999-9999\"></td>\n",
    "        <td ><button onclick=\"create_User()\">Create</button></td>\n",
    "    </tr>\n",
    "</table>\n",
    "*/"
   ]
  }
 ],
 "metadata": {
  "kernelspec": {
   "display_name": "Python 3",
   "language": "python",
   "name": "python3"
  },
  "language_info": {
   "name": "python",
   "version": "3.10.4 (v3.10.4:9d38120e33, Mar 23 2022, 17:29:05) [Clang 13.0.0 (clang-1300.0.29.30)]"
  },
  "orig_nbformat": 4,
  "vscode": {
   "interpreter": {
    "hash": "aee8b7b246df8f9039afb4144a1f6fd8d2ca17a180786b69acc140d282b71a49"
   }
  }
 },
 "nbformat": 4,
 "nbformat_minor": 2
}
