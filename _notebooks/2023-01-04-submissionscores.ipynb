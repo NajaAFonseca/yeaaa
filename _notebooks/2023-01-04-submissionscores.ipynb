{
 "cells": [
  {
   "attachments": {},
   "cell_type": "markdown",
   "metadata": {},
   "source": [
    "# \"Performance Task Scoring\"\n",
    "> Looking at student examples presented for College Board and grading them to see if they meet the criteria\n",
    "\n",
    "- toc: true\n",
    "- branch: master\n",
    "- badges: true\n",
    "- comments: true\n",
    "- author: Naja Fonseca\n",
    "- categories: [fastpages,]"
   ]
  },
  {
   "attachments": {},
   "cell_type": "markdown",
   "metadata": {},
   "source": [
    "### Submission 1\n",
    "\n",
    "|Reporting Category|Student Score|College Board Score|Comments|College Board Comments|\n",
    "|---|---|---|---|---|\n",
    "|Program Purpose and Function|1|0|I gave them a one because they used input, output, and showed program functionality when they tested their code. in their written response, they specifically state the purpose of the code is to provide information about a triangle based on the input side lengths.|College board states that the written response did not meet the criteria because the written response describes the function and not the program purpose. |\n",
    "|Data Abstraction|1|1|The data in the program is used from user input when the code finds the angles of each side of the triangle using sin, cosine, and tangent. The variables are listed as the sides of the triangle: A, B, and C. The data from user input is representing the side lengths of the triangle. Their written response contains two completely distinguishable code segments with descriptions on both code segments of what each list does.|College board says that they named their list, provided their two code segments, and had a good written response all which meet College Board criteria.|\n",
    "|Managing Complexity|1|0|The student shows managing complexity because they include a list that organizes their code and sets it up into a nice form. However, I'm not sure if this list really is beneficial to the code although the purpose says to get information on the triangle based on inputted sidelengths and if the list sideIndex is classifying the different types of triangles then I believe it helps manage complexity.| The student deserved a 0 because despite their 4 classifications, the written response was innacurate. As well as, the student states a line that would actually make their code more difficult to manage without a list.|\n",
    "|Procedural Abstraction|1|1|I gave the student a one because they show both a student-developed procedure and a parameter that shows the functionality of the procedure. Additionally, the student shows where the procedure is being called and throughly describes the procedure as well as describing how it contributes to the overall functionality of the program.|College Board gave this student a one for their student-developed procedure: ratioCalculate, code fragment that class ratioCalculate, the students description of functionality, and because the students states how the procedure contributes to the overall program.|\n",
    "|Algorithm Implentation|1|1|I gave the student a one because they show sequencing, selection, and iteration in their code. As well as, explaining in detailed steps how the algorithm works enough that someone could recreate it.|College board gave this student a one because they show sequencing, selection, and iteration in their code through the function ratioCalculate. Next, college board also gave the student a one because of the way they described the algorithm functionality enough so it could be recreated.|\n",
    "|Testing|1|1|I gave the student a one because in 3c the student shows 2 calls to the selected procedure, each different to produce a different segment of code to execute. The student also describes the conditions being called to each procedure, and all in all the student also shows the result of each call in their video.|College board gave the student a one because they describe two different call procedures: ratioCalculate(3.0,4.0,5.0) and ratioCalculate(1.2, 2.3, 3.4). The students response describes the conditions being tested in the procedure calls and identifies the results of each call.|"
   ]
  },
  {
   "attachments": {},
   "cell_type": "markdown",
   "metadata": {},
   "source": [
    "### Submission 2\n",
    "\n",
    "|Reporting Category|Student Score|College Board Score|Comments|\n",
    "|--|---|---|---|\n",
    "|Program Purpose and Function|1|1|okay|\n",
    "|Data Abstraction|1|1|okay|\n",
    "|Managing Complexity|1|1|okay|\n",
    "|Procedural Abstraction|1|1|okay|\n",
    "|Algorithm Implentation|1|1|okay|\n",
    "|Testing|1|1|okay|"
   ]
  }
 ],
 "metadata": {
  "kernelspec": {
   "display_name": "Python 3",
   "language": "python",
   "name": "python3"
  },
  "language_info": {
   "name": "python",
   "version": "3.10.4 (v3.10.4:9d38120e33, Mar 23 2022, 17:29:05) [Clang 13.0.0 (clang-1300.0.29.30)]"
  },
  "orig_nbformat": 4,
  "vscode": {
   "interpreter": {
    "hash": "aee8b7b246df8f9039afb4144a1f6fd8d2ca17a180786b69acc140d282b71a49"
   }
  }
 },
 "nbformat": 4,
 "nbformat_minor": 2
}
