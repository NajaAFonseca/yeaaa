{
 "cells": [
  {
   "attachments": {},
   "cell_type": "markdown",
   "metadata": {},
   "source": [
    "# \"Performance Task Scoring\"\n",
    "> Looking at student examples presented for College Board and grading them to see if they meet the criteria\n",
    "\n",
    "- toc: true\n",
    "- branch: master\n",
    "- badges: true\n",
    "- comments: true\n",
    "- author: Naja Fonseca\n",
    "- categories: [fastpages,]"
   ]
  },
  {
   "attachments": {},
   "cell_type": "markdown",
   "metadata": {},
   "source": [
    "### Submission 1\n",
    "\n",
    "|Reporting Category|Student Score|College Board Score|Comments|College Board Comments|\n",
    "|---|---|---|---|---|\n",
    "|Program Purpose and Function|1|0|I gave them a one because they used input, output, and showed program functionality when they tested their code. in their written response, they specifically state the purpose of the code is to provide information about a triangle based on the input side lengths.|College board states that the written response did not meet the criteria because the written response describes the function and not the program purpose. |\n",
    "|Data Abstraction|1|1|The data in the program is used from user input when the code finds the angles of each side of the triangle using sin, cosine, and tangent. The variables are listed as the sides of the triangle: A, B, and C. The data from user input is representing the side lengths of the triangle. Their written response contains two completely distinguishable code segments with descriptions on both code segments of what each list does.|College board says that they named their list, provided their two code segments, and had a good written response all which meet College Board criteria.|\n",
    "|Managing Complexity|1|1|okay||\n",
    "|Procedural Abstraction|1|1|okay||\n",
    "|Algorithm Implentation|1|1|okay||\n",
    "|Testing|1|1|okay||"
   ]
  },
  {
   "attachments": {},
   "cell_type": "markdown",
   "metadata": {},
   "source": [
    "### Submission 2\n",
    "\n",
    "|Reporting Category|Student Score|College Board Score|Comments|\n",
    "|--|---|---|---|\n",
    "|Program Purpose and Function|1|1|okay|\n",
    "|Data Abstraction|1|1|okay|\n",
    "|Managing Complexity|1|1|okay|\n",
    "|Procedural Abstraction|1|1|okay|\n",
    "|Algorithm Implentation|1|1|okay|\n",
    "|Testing|1|1|okay|"
   ]
  }
 ],
 "metadata": {
  "kernelspec": {
   "display_name": "Python 3",
   "language": "python",
   "name": "python3"
  },
  "language_info": {
   "name": "python",
   "version": "3.10.4 (v3.10.4:9d38120e33, Mar 23 2022, 17:29:05) [Clang 13.0.0 (clang-1300.0.29.30)]"
  },
  "orig_nbformat": 4,
  "vscode": {
   "interpreter": {
    "hash": "aee8b7b246df8f9039afb4144a1f6fd8d2ca17a180786b69acc140d282b71a49"
   }
  }
 },
 "nbformat": 4,
 "nbformat_minor": 2
}
