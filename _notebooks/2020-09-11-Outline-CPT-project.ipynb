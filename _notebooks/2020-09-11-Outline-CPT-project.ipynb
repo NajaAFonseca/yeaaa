{
 "cells": [
  {
   "cell_type": "markdown",
   "metadata": {},
   "source": [
    "# \"Outline for Creating a Performance Task project\"\n",
    "> Gotta set realistic expectations with this outline! \n",
    "\n",
    "- toc: true\n",
    "- branch: master\n",
    "- badges: true\n",
    "- comments: true\n",
    "- author: Naja Fonseca\n",
    "- categories: [markdown, jupyter]"
   ]
  },
  {
   "cell_type": "markdown",
   "metadata": {},
   "source": [
    "# Brainstorming + Ideas\n",
    "\n",
    "App or Game:\n",
    "\n",
    "- Contacting/Messaging app\n",
    "- Basketball game\n",
    "- Athletic.net app (improved)\n",
    "- Outfit app\n",
    "- Organization app/Things to do app\n",
    "- Meditation/Breathing App\n",
    "- Calming sounds app"
   ]
  }
 ],
 "metadata": {
  "kernelspec": {
   "display_name": "Python 3.10.4 64-bit",
   "language": "python",
   "name": "python3"
  },
  "language_info": {
   "name": "python",
   "version": "3.10.4"
  },
  "orig_nbformat": 4,
  "vscode": {
   "interpreter": {
    "hash": "aee8b7b246df8f9039afb4144a1f6fd8d2ca17a180786b69acc140d282b71a49"
   }
  }
 },
 "nbformat": 4,
 "nbformat_minor": 2
}
