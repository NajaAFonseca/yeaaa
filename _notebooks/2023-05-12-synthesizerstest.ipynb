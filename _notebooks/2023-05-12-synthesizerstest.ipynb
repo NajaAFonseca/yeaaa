{
 "cells": [
  {
   "cell_type": "code",
   "execution_count": 3,
   "metadata": {},
   "outputs": [
    {
     "name": "stdout",
     "output_type": "stream",
     "text": [
      "Could not import the PyAudio C module 'pyaudio._portaudio'.\n"
     ]
    },
    {
     "ename": "ImportError",
     "evalue": "Failed to import pyaudio, please install pyaudio",
     "output_type": "error",
     "traceback": [
      "\u001b[0;31m---------------------------------------------------------------------------\u001b[0m",
      "\u001b[0;31mImportError\u001b[0m                               Traceback (most recent call last)",
      "\u001b[1;32m/Users/najafonseca/yeaaa/yeaaa/_notebooks/2023-05-12-synthesizerstest.ipynb Cell 1\u001b[0m in \u001b[0;36m<cell line: 4>\u001b[0;34m()\u001b[0m\n\u001b[1;32m      <a href='vscode-notebook-cell:/Users/najafonseca/yeaaa/yeaaa/_notebooks/2023-05-12-synthesizerstest.ipynb#W0sZmlsZQ%3D%3D?line=0'>1</a>\u001b[0m \u001b[39mfrom\u001b[39;00m \u001b[39msynthesizer\u001b[39;00m \u001b[39mimport\u001b[39;00m Player, Synthesizer, Waveform\n\u001b[1;32m      <a href='vscode-notebook-cell:/Users/najafonseca/yeaaa/yeaaa/_notebooks/2023-05-12-synthesizerstest.ipynb#W0sZmlsZQ%3D%3D?line=2'>3</a>\u001b[0m player \u001b[39m=\u001b[39m Player()\n\u001b[0;32m----> <a href='vscode-notebook-cell:/Users/najafonseca/yeaaa/yeaaa/_notebooks/2023-05-12-synthesizerstest.ipynb#W0sZmlsZQ%3D%3D?line=3'>4</a>\u001b[0m player\u001b[39m.\u001b[39;49mopen_stream()\n\u001b[1;32m      <a href='vscode-notebook-cell:/Users/najafonseca/yeaaa/yeaaa/_notebooks/2023-05-12-synthesizerstest.ipynb#W0sZmlsZQ%3D%3D?line=4'>5</a>\u001b[0m synthesizer \u001b[39m=\u001b[39m Synthesizer(osc1_waveform\u001b[39m=\u001b[39mWaveform\u001b[39m.\u001b[39msine, osc1_volume\u001b[39m=\u001b[39m\u001b[39m1.0\u001b[39m, use_osc2\u001b[39m=\u001b[39m\u001b[39mFalse\u001b[39;00m)\n\u001b[1;32m      <a href='vscode-notebook-cell:/Users/najafonseca/yeaaa/yeaaa/_notebooks/2023-05-12-synthesizerstest.ipynb#W0sZmlsZQ%3D%3D?line=5'>6</a>\u001b[0m \u001b[39m# Play A4\u001b[39;00m\n",
      "File \u001b[0;32m~/opt/anaconda3/lib/python3.9/site-packages/synthesizer/player.py:38\u001b[0m, in \u001b[0;36mPlayer.open_stream\u001b[0;34m(self, device_name, device_index)\u001b[0m\n\u001b[1;32m     29\u001b[0m \u001b[39mu\u001b[39m\u001b[39m\"\"\" open audio output stream\u001b[39;00m\n\u001b[1;32m     30\u001b[0m \n\u001b[1;32m     31\u001b[0m \u001b[39mif neither device_name nor device_index is specified,\u001b[39;00m\n\u001b[0;32m   (...)\u001b[0m\n\u001b[1;32m     35\u001b[0m \u001b[39m:param int device_index: index of device\u001b[39;00m\n\u001b[1;32m     36\u001b[0m \u001b[39m\"\"\"\u001b[39;00m\n\u001b[1;32m     37\u001b[0m \u001b[39mif\u001b[39;00m \u001b[39mnot\u001b[39;00m \u001b[39mself\u001b[39m\u001b[39m.\u001b[39m_pyaudio:\n\u001b[0;32m---> 38\u001b[0m     \u001b[39mraise\u001b[39;00m \u001b[39mImportError\u001b[39;00m(\u001b[39m\"\u001b[39m\u001b[39mFailed to import pyaudio, please install pyaudio\u001b[39m\u001b[39m\"\u001b[39m)\n\u001b[1;32m     39\u001b[0m \u001b[39mif\u001b[39;00m device_name:\n\u001b[1;32m     40\u001b[0m     \u001b[39mfor\u001b[39;00m n \u001b[39min\u001b[39;00m \u001b[39mrange\u001b[39m(\u001b[39mself\u001b[39m\u001b[39m.\u001b[39m_pyaudio\u001b[39m.\u001b[39mget_device_count()):\n",
      "\u001b[0;31mImportError\u001b[0m: Failed to import pyaudio, please install pyaudio"
     ]
    }
   ],
   "source": [
    "from synthesizer import Player, Synthesizer, Waveform\n",
    "\n",
    "player = Player()\n",
    "player.open_stream()\n",
    "synthesizer = Synthesizer(osc1_waveform=Waveform.sine, osc1_volume=1.0, use_osc2=False)\n",
    "# Play A4\n",
    "player.play_wave(synthesizer.generate_constant_wave(440.0, 3.0))"
   ]
  }
 ],
 "metadata": {
  "kernelspec": {
   "display_name": "base",
   "language": "python",
   "name": "python3"
  },
  "language_info": {
   "codemirror_mode": {
    "name": "ipython",
    "version": 3
   },
   "file_extension": ".py",
   "mimetype": "text/x-python",
   "name": "python",
   "nbconvert_exporter": "python",
   "pygments_lexer": "ipython3",
   "version": "3.9.12"
  },
  "orig_nbformat": 4
 },
 "nbformat": 4,
 "nbformat_minor": 2
}
