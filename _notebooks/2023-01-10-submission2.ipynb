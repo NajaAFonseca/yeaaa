{
 "cells": [
  {
   "attachments": {},
   "cell_type": "markdown",
   "metadata": {},
   "source": [
    "# \"Performance Task Scoring Pt. 2\"\n",
    "> Looking at student examples presented for College Board and grading them to see if they meet the criteria\n",
    "\n",
    "- toc: true\n",
    "- branch: master\n",
    "- badges: true\n",
    "- comments: true\n",
    "- author: Naja Fonseca\n",
    "- categories: [fastpages]"
   ]
  },
  {
   "attachments": {},
   "cell_type": "markdown",
   "metadata": {},
   "source": [
    "### Submission 1\n",
    "\n",
    "|Reporting Category|Student Score|College Board Score|Comments|College Board Comments|\n",
    "|---|---|---|---|---|\n",
    "|Program Purpose and Function|0|0|Video criteria was met showing input, output, and program functionality. However, in the written response, the students response to what the purpose of the program decribes the function. As well as their response to the programs functionality is innaccurate and does not state the function. The response to the input and output is also incorrect as they're description of output matches input and vice versa with input.|College Board gives the student a 0 as well because of their inaccuracy and incorrect answers on the written response, however, they do believe that their video did demonstrate input, output, and program functionality. The reason College Board gave this student a 0 despite showing everything on the video correctly is because college board is looking for the full understanding beyond what you can just show. They want students to be able to verbally tell us what is going on in their code and how it works.|\n",
    "|Data Abstraction|1|1|The student identifies the name of the variable representing the list and shows two code segments. And, the student describes the data in the list. |CBcomment|\n",
    "|Managing Complexity|1|1|comment|CBcomment|\n",
    "|Procedural Abstraction|1|1|comment|CBcomment|\n",
    "|Algorithm Implementation|1|1|comment|CBcomment|\n",
    "|Testing|1|1|comment|CBcomment|"
   ]
  },
  {
   "attachments": {},
   "cell_type": "markdown",
   "metadata": {},
   "source": [
    "### Submission 2\n",
    "\n",
    "|Reporting Category|Student Score|College Board Score|Comments|College Board Comments|\n",
    "|---|---|---|---|---|\n",
    "|Program Purpose and Function|1|1|comment|CBcomment|\n",
    "|Data Abstraction|1|1|comment|CBcomment|\n",
    "|Managing Complexity|1|1|comment|CBcomment|\n",
    "|Procedural Abstraction|1|1|comment|CBcomment|\n",
    "|Algorithm Implementation|1|1|comment|CBcomment|\n",
    "|Testing|1|1|comment|CBcomment|"
   ]
  },
  {
   "attachments": {},
   "cell_type": "markdown",
   "metadata": {},
   "source": [
    "### Submission 3\n",
    "\n",
    "|Reporting Category|Student Score|College Board Score|Comments|College Board Comments|\n",
    "|---|---|---|---|---|\n",
    "|Program Purpose and Function|1|1|comment|CBcomment|\n",
    "|Data Abstraction|1|1|comment|CBcomment|\n",
    "|Managing Complexity|1|1|comment|CBcomment|\n",
    "|Procedural Abstraction|1|1|comment|CBcomment|\n",
    "|Algorithm Implementation|1|1|comment|CBcomment|\n",
    "|Testing|1|1|comment|CBcomment|"
   ]
  },
  {
   "attachments": {},
   "cell_type": "markdown",
   "metadata": {},
   "source": [
    "### Submission 4\n",
    "\n",
    "|Reporting Category|Student Score|College Board Score|Comments|College Board Comments|\n",
    "|---|---|---|---|---|\n",
    "|Program Purpose and Function|1|1|comment|CBcomment|\n",
    "|Data Abstraction|1|1|comment|CBcomment|\n",
    "|Managing Complexity|1|1|comment|CBcomment|\n",
    "|Procedural Abstraction|1|1|comment|CBcomment|\n",
    "|Algorithm Implementation|1|1|comment|CBcomment|\n",
    "|Testing|1|1|comment|CBcomment|"
   ]
  }
 ],
 "metadata": {
  "kernelspec": {
   "display_name": "Python 3",
   "language": "python",
   "name": "python3"
  },
  "language_info": {
   "name": "python",
   "version": "3.10.4 (v3.10.4:9d38120e33, Mar 23 2022, 17:29:05) [Clang 13.0.0 (clang-1300.0.29.30)]"
  },
  "orig_nbformat": 4,
  "vscode": {
   "interpreter": {
    "hash": "aee8b7b246df8f9039afb4144a1f6fd8d2ca17a180786b69acc140d282b71a49"
   }
  }
 },
 "nbformat": 4,
 "nbformat_minor": 2
}
