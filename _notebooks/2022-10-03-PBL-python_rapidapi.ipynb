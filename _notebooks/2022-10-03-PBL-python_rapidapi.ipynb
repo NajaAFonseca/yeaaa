{
 "cells": [
  {
   "cell_type": "markdown",
   "metadata": {},
   "source": [
    "# Application Programming Interface (API) Practice\n",
    "> APIs can be found all over the internet.  A great consolidator of many APIs is <mark>RapidAPI</mark>.  In this blog I will use a site to consolidate API stats.  Learning a few lines of code and you can start extracting lots of data from the internet via APIs.  \n",
    "\n",
    "- toc: true\n",
    "- branch: master\n",
    "- badges: true\n",
    "- comments: true\n",
    "- author: Naja Fonseca\n",
    "- categories: [markdown, python]\n",
    "- permalink: /API"
   ]
  },
  {
   "cell_type": "markdown",
   "metadata": {},
   "source": [
    "### Covid19 RapidAPI Example\n",
    "> To begin the API journey.  You need to find an API provider.  \n",
    "\n",
    "- RapidAPI is a great option.  You must setup and account, but there are many free options.\n",
    "- Goto this page for starters, the [Corona virus World and India data](https://rapidapi.com/spamakashrajtech/api/corona-virus-world-and-india-data/)\n",
    "- Under Code Snippets pick Python - Requests\n",
    "\n",
    "RapidAPI, you will select Python Requests type of code to work with you Notebook.\n",
    "- The url is the endpoint to which the API is directed\n",
    "- The headers is a dictionary data structure to send special messaging to the endpoint \n",
    "- The requests.request() python function is used to send a request and retrieve their responses\n",
    "- The response variable receives result of of the request in JSON text\n",
    "\n",
    "Next step, is to format the response according to your data science needs"
   ]
  },
  {
   "cell_type": "code",
   "execution_count": 1,
   "metadata": {},
   "outputs": [
    {
     "name": "stdout",
     "output_type": "stream",
     "text": [
      "World Totals\n",
      "total_cases 509,268,964\n",
      "new_cases 204,268\n",
      "total_deaths 6,242,509\n",
      "new_deaths 630\n",
      "total_recovered 461,827,849\n",
      "active_cases 41,198,606\n",
      "serious_critical 42,510\n",
      "total_cases_per_1m_population 65,334\n",
      "deaths_per_1m_population 800.9\n",
      "statistic_taken_at 2022-04-24 11:18:01\n",
      "\n",
      "Country Totals\n",
      "country_name USA\n",
      "cases 82,649,779\n",
      "deaths 1,018,316\n",
      "region \n",
      "total_recovered 80,434,925\n",
      "new_deaths 0\n",
      "new_cases 0\n",
      "serious_critical 1,465\n",
      "active_cases 1,196,538\n",
      "total_cases_per_1m_population 247,080\n",
      "deaths_per_1m_population 3,044\n",
      "total_tests 1,000,275,726\n",
      "tests_per_1m_population 2,990,303\n"
     ]
    }
   ],
   "source": [
    "\"\"\"\n",
    "Requests is a HTTP library for the Python programming language. \n",
    "The goal of the project is to make HTTP requests simpler and more human-friendly. \n",
    "\"\"\"\n",
    "import requests\n",
    "\n",
    "\"\"\"\n",
    "RapidAPI is the world's largest API Marketplace. \n",
    "Developers use Rapid API to discover and connect to thousands of APIs. \n",
    "\"\"\"\n",
    "url = \"https://corona-virus-world-and-india-data.p.rapidapi.com/api\"\n",
    "headers = {\n",
    "    'x-rapidapi-key': \"dec069b877msh0d9d0827664078cp1a18fajsn2afac35ae063\",\n",
    "    'x-rapidapi-host': \"corona-virus-world-and-india-data.p.rapidapi.com\"\n",
    "}\n",
    "\n",
    "# Request Covid Data\n",
    "response = requests.request(\"GET\", url, headers=headers)\n",
    "# print(response.text)  # uncomment this line to see raw data\n",
    "\n",
    "# This code looks for \"world data\"\n",
    "print(\"World Totals\")\n",
    "world = response.json().get('world_total')  # turn response to json() so we can extract \"world_total\"\n",
    "for key, value in world.items():  # this finds key, value pairs in country\n",
    "    print(key, value)\n",
    "\n",
    "print()\n",
    "\n",
    "# This code looks for USA in \"countries_stats\"\n",
    "print(\"Country Totals\")\n",
    "countries = response.json().get('countries_stat')\n",
    "for country in countries:  # countries is a list\n",
    "    if country[\"country_name\"] == \"USA\":  # this filters for USA\n",
    "        for key, value in country.items():  # this finds key, value pairs in country\n",
    "            print(key, value)\n"
   ]
  },
  {
   "cell_type": "markdown",
   "metadata": {},
   "source": [
    "# Love calculator"
   ]
  },
  {
   "cell_type": "code",
   "execution_count": 1,
   "metadata": {},
   "outputs": [
    {
     "name": "stdout",
     "output_type": "stream",
     "text": [
      "{\"fname\":\"comp sci\",\"sname\":\"naja\",\"percentage\":\"34\",\"result\":\"Can choose someone better.\"}\n"
     ]
    }
   ],
   "source": [
    "import requests\n",
    "\n",
    "url = \"https://love-calculator.p.rapidapi.com/getPercentage\"\n",
    "\n",
    "querystring = {\"sname\":\"naja\",\"fname\":\"comp sci\"}\n",
    "\n",
    "headers = {\n",
    "\t\"X-RapidAPI-Key\": \"429049e20amsh168c822ee8b3e75p1d8e72jsncf75688bb197\",\n",
    "\t\"X-RapidAPI-Host\": \"love-calculator.p.rapidapi.com\"\n",
    "}\n",
    "\n",
    "response = requests.request(\"GET\", url, headers=headers, params=querystring)\n",
    "\n",
    "print(response.text)"
   ]
  },
  {
   "cell_type": "markdown",
   "metadata": {},
   "source": [
    "# Superheroes"
   ]
  },
  {
   "cell_type": "code",
   "execution_count": 10,
   "metadata": {},
   "outputs": [
    {
     "name": "stdout",
     "output_type": "stream",
     "text": [
      "[{\"id\":68,\"name\":\"Batgirl VI\",\"slug\":\"68-batgirl-vi\",\"powerstats\":{\"intelligence\":75,\"strength\":10,\"speed\":23,\"durability\":28,\"power\":22,\"combat\":80},\"appearance\":{\"gender\":\"Female\",\"race\":null,\"height\":[\"5'6\",\"168 cm\"],\"weight\":[\"135 lb\",\"61 kg\"],\"eyeColor\":\"Blue\",\"hairColor\":\"Blond\"},\"biography\":{\"fullName\":\"Stephanie Brown\",\"alterEgos\":\"Spoiler\",\"aliases\":[\"Steph\",\"Robin\",\"Marion Todd\",\"Spoiler\"],\"placeOfBirth\":\"-\",\"firstAppearance\":\"Detective Comics #647. As Batgirl in Batgirl (Volume 3) #1. (2009)\",\"publisher\":\"Spoiler\",\"alignment\":\"good\"},\"work\":{\"occupation\":\"College student at Gotham University\",\"base\":\"Gotham Heights, Gotham City\"},\"connections\":{\"groupAffiliation\":\"The Batman Family, formerly the Birds of Prey, Tim Drake (on-and-off boyfriend)\",\"relatives\":\"Arthur Brown (The Cluemaster, father), Crystal Brown (mother), unnamed daughter (given up for adoption)\"},\"images\":{\"xs\":\"https://cdn.rawgit.com/akabab/superhero-api/0.2.0/api/images/xs/68-batgirl-vi.jpg\",\"sm\":\"https://cdn.rawgit.com/akabab/superhero-api/0.2.0/api/images/sm/68-batgirl-vi.jpg\",\"md\":\"https://cdn.rawgit.com/akabab/superhero-api/0.2.0/api/images/md/68-batgirl-vi.jpg\",\"lg\":\"https://cdn.rawgit.com/akabab/superhero-api/0.2.0/api/images/lg/68-batgirl-vi.jpg\"}},{\"id\":452,\"name\":\"Mimic\",\"slug\":\"452-mimic\",\"powerstats\":{\"intelligence\":63,\"strength\":67,\"speed\":47,\"durability\":56,\"power\":79,\"combat\":42},\"appearance\":{\"gender\":\"Male\",\"race\":null,\"height\":[\"6'2\",\"188 cm\"],\"weight\":[\"225 lb\",\"101 kg\"],\"eyeColor\":\"Brown\",\"hairColor\":\"Brown\"},\"biography\":{\"fullName\":\"Calvin Montgomery Rankin\",\"alterEgos\":\"No alter egos found.\",\"aliases\":[\"Cal\",\"Wolverine\",\"Calvin Rankin\"],\"placeOfBirth\":\"Passiac, New Jersey\",\"firstAppearance\":\"Uncanny X-Men #19\",\"publisher\":\"Marvel Comics\",\"alignment\":\"good\"},\"work\":{\"occupation\":\"-\",\"base\":\"-\"},\"connections\":{\"groupAffiliation\":\"Formerly Brotherhood Of Mutants, Excalibur, X-Men, former agent of Onslaught and Sledge\",\"relatives\":\"Ronald Rankin (father, deceased)\"},\"images\":{\"xs\":\"https://cdn.rawgit.com/akabab/superhero-api/0.2.0/api/images/xs/452-mimic.jpg\",\"sm\":\"https://cdn.rawgit.com/akabab/superhero-api/0.2.0/api/images/sm/452-mimic.jpg\",\"md\":\"https://cdn.rawgit.com/akabab/superhero-api/0.2.0/api/images/md/452-mimic.jpg\",\"lg\":\"https://cdn.rawgit.com/akabab/superhero-api/0.2.0/api/images/lg/452-mimic.jpg\"}},{\"id\":587,\"name\":\"Shang-Chi\",\"slug\":\"587-shang-chi\",\"powerstats\":{\"intelligence\":63,\"strength\":12,\"speed\":30,\"durability\":50,\"power\":29,\"combat\":100},\"appearance\":{\"gender\":\"Male\",\"race\":\"Human\",\"height\":[\"5'10\",\"178 cm\"],\"weight\":[\"175 lb\",\"79 kg\"],\"eyeColor\":\"Brown\",\"hairColor\":\"Black\"},\"biography\":{\"fullName\":\"Shang-Chi\",\"alterEgos\":\"No alter egos found.\",\"aliases\":[\"The Master of Kung Fu; The Rising and Advancing of the Spirit; Chinaman (by Jack Tarr)\"],\"placeOfBirth\":\"-\",\"firstAppearance\":\"Special Marvel Edition #15 (December, 1973)\",\"publisher\":\"Marvel Comics\",\"alignment\":\"good\"},\"work\":{\"occupation\":\"-\",\"base\":\"-\"},\"connections\":{\"groupAffiliation\":\"MI-5, MI-6, \\\"Marvel Knights\\\", Heroes For Hire, Freelance Restorations, Si-Fan, Secret Avengers\",\"relatives\":\"Fu Manchu, father; unnamed mother; Fah Lo Suee, (half-sister); Whispering Shadow (half-brother, deceased)\"},\"images\":{\"xs\":\"https://cdn.rawgit.com/akabab/superhero-api/0.2.0/api/images/xs/587-shang-chi.jpg\",\"sm\":\"https://cdn.rawgit.com/akabab/superhero-api/0.2.0/api/images/sm/587-shang-chi.jpg\",\"md\":\"https://cdn.rawgit.com/akabab/superhero-api/0.2.0/api/images/md/587-shang-chi.jpg\",\"lg\":\"https://cdn.rawgit.com/akabab/superhero-api/0.2.0/api/images/lg/587-shang-chi.jpg\"}},{\"id\":634,\"name\":\"Static\",\"slug\":\"634-static\",\"powerstats\":{\"intelligence\":69,\"strength\":8,\"speed\":42,\"durability\":50,\"power\":90,\"combat\":40},\"appearance\":{\"gender\":\"Male\",\"race\":\"Mutant\",\"height\":[\"5'7\",\"170 cm\"],\"weight\":[\"140 lb\",\"63 kg\"],\"eyeColor\":\"Brown\",\"hairColor\":\"Black\"},\"biography\":{\"fullName\":\"Virgil Hawkins\",\"alterEgos\":\"No alter egos found.\",\"aliases\":[\"Sparky\",\"Virg\",\"V\",\"V-Man\"],\"placeOfBirth\":\"Paris Island, Dakota City\",\"firstAppearance\":\"Static #1 (June, 1993)\",\"publisher\":\"DC Comics\",\"alignment\":\"good\"},\"work\":{\"occupation\":\"Student\",\"base\":\"Titans Tower, formerly Abandoned Gas Station of Solitude, Dakota City\"},\"connections\":{\"groupAffiliation\":\"Shadow Cabinet, Heroes, Teen Titans\",\"relatives\":\"Robert Hawkins (father), Jean Hawkins (mother), Sharon Hawkins (sister), Homer Hawkins (grandfather), Teshom? Hawkins (uncle, deceased),\"},\"images\":{\"xs\":\"https://cdn.rawgit.com/akabab/superhero-api/0.2.0/api/images/xs/634-static.jpg\",\"sm\":\"https://cdn.rawgit.com/akabab/superhero-api/0.2.0/api/images/sm/634-static.jpg\",\"md\":\"https://cdn.rawgit.com/akabab/superhero-api/0.2.0/api/images/md/634-static.jpg\",\"lg\":\"https://cdn.rawgit.com/akabab/superhero-api/0.2.0/api/images/lg/634-static.jpg\"}},{\"id\":298,\"name\":\"Green Arrow\",\"slug\":\"298-green-arrow\",\"powerstats\":{\"intelligence\":81,\"strength\":12,\"speed\":35,\"durability\":28,\"power\":39,\"combat\":90},\"appearance\":{\"gender\":\"Male\",\"race\":\"Human\",\"height\":[\"6'2\",\"188 cm\"],\"weight\":[\"195 lb\",\"88 kg\"],\"eyeColor\":\"Green\",\"hairColor\":\"Blond\"},\"biography\":{\"fullName\":\"Oliver Queen\",\"alterEgos\":\"No alter egos found.\",\"aliases\":[\"The Emerald Archer\",\"Battling Bowman\"],\"placeOfBirth\":\"-\",\"firstAppearance\":\"More Fun Comics #73 (November 1941)\",\"publisher\":\"DC Comics\",\"alignment\":\"good\"},\"work\":{\"occupation\":\"Professional Crime-fighter; Multi-Billionaire\",\"base\":\"Star City, California; Formerly Seattle, Washington\"},\"connections\":{\"groupAffiliation\":\"Justice League Reserve, Connor Hawke, Mia Dearden,  Arsenal, Green Arrows of the World, Black Canary, Green Lantern Hal Jordan, Shado, Eddie Fyers, Justice League Elite, Seven Soldiers of Victory, All-Star Squadron\",\"relatives\":\"Conner Hawke (son); Robert (son); Cissie King (possible daughter); Roy Harper - Red Arrow (adoptive son); Dinah Laurel Lance (wife); Dinah Drake Lance (mother-in-law, deceased); Larry Lance (father-in-law, deceased)\"},\"images\":{\"xs\":\"https://cdn.rawgit.com/akabab/superhero-api/0.2.0/api/images/xs/298-green-arrow.jpg\",\"sm\":\"https://cdn.rawgit.com/akabab/superhero-api/0.2.0/api/images/sm/298-green-arrow.jpg\",\"md\":\"https://cdn.rawgit.com/akabab/superhero-api/0.2.0/api/images/md/298-green-arrow.jpg\",\"lg\":\"https://cdn.rawgit.com/akabab/superhero-api/0.2.0/api/images/lg/298-green-arrow.jpg\"}},{\"id\":442,\"name\":\"Meltdown\",\"slug\":\"442-meltdown\",\"powerstats\":{\"intelligence\":38,\"strength\":10,\"speed\":12,\"durability\":42,\"power\":62,\"combat\":64},\"appearance\":{\"gender\":\"Female\",\"race\":null,\"height\":[\"5'5\",\"165 cm\"],\"weight\":[\"120 lb\",\"54 kg\"],\"eyeColor\":\"Blue\",\"hairColor\":\"Blond\"},\"biography\":{\"fullName\":\"Tabitha Smith\",\"alterEgos\":\"Boom-Boom\",\"aliases\":[\"Boom-Boom\",\"Boomer\",\"Meltdown\",\"Mutate #35\",\"Time Bomb\",\"Nancy Forrester\"],\"placeOfBirth\":\"Roanoke, Virginia\",\"firstAppearance\":\"-\",\"publisher\":\"Boom-Boom\",\"alignment\":\"good\"},\"work\":{\"occupation\":\"Adventurer, former student, thief\",\"base\":\"-\"},\"connections\":{\"groupAffiliation\":\"Formerly Nextwave, X-Force, Genoshan Mutates, New Mutants, X-Terminators, X-Factor (trainee), Fallen Angels\",\"relatives\":\"Martin Louis Smith (father), Mandy Smith (step-mother), Wanda Jo Bialowsky-Smith (step-mother)\"},\"images\":{\"xs\":\"https://cdn.rawgit.com/akabab/superhero-api/0.2.0/api/images/xs/442-meltdown.jpg\",\"sm\":\"https://cdn.rawgit.com/akabab/superhero-api/0.2.0/api/images/sm/442-meltdown.jpg\",\"md\":\"https://cdn.rawgit.com/akabab/superhero-api/0.2.0/api/images/md/442-meltdown.jpg\",\"lg\":\"https://cdn.rawgit.com/akabab/superhero-api/0.2.0/api/images/lg/442-meltdown.jpg\"}},{\"id\":42,\"name\":\"Ardina\",\"slug\":\"42-ardina\",\"powerstats\":{\"intelligence\":63,\"strength\":100,\"speed\":100,\"durability\":80,\"power\":100,\"combat\":25},\"appearance\":{\"gender\":\"Female\",\"race\":\"Alien\",\"height\":[\"6'4\",\"193 cm\"],\"weight\":[\"218 lb\",\"98 kg\"],\"eyeColor\":\"White\",\"hairColor\":\"Orange\"},\"biography\":{\"fullName\":\"Ardina\",\"alterEgos\":\"No alter egos found.\",\"aliases\":[\"-\"],\"placeOfBirth\":\"-\",\"firstAppearance\":\"The Order #4\",\"publisher\":\"Marvel Comics\",\"alignment\":\"good\"},\"work\":{\"occupation\":\"-\",\"base\":\"-\"},\"connections\":{\"groupAffiliation\":\"-\",\"relatives\":\"Norrin Radd (Silver Surfer, clonal source), Clea (creator)\"},\"images\":{\"xs\":\"https://cdn.rawgit.com/akabab/superhero-api/0.2.0/api/images/xs/42-ardina.jpg\",\"sm\":\"https://cdn.rawgit.com/akabab/superhero-api/0.2.0/api/images/sm/42-ardina.jpg\",\"md\":\"https://cdn.rawgit.com/akabab/superhero-api/0.2.0/api/images/md/42-ardina.jpg\",\"lg\":\"https://cdn.rawgit.com/akabab/superhero-api/0.2.0/api/images/lg/42-ardina.jpg\"}},{\"id\":476,\"name\":\"Mr Incredible\",\"slug\":\"476-mr-incredible\",\"powerstats\":{\"intelligence\":50,\"strength\":83,\"speed\":33,\"durability\":95,\"power\":29,\"combat\":40},\"appearance\":{\"gender\":\"Male\",\"race\":\"Human\",\"height\":[\"6'7\",\"201 cm\"],\"weight\":[\"350 lb\",\"158 kg\"],\"eyeColor\":\"Blue\",\"hairColor\":\"Blond\"},\"biography\":{\"fullName\":\"Robert Parr\",\"alterEgos\":\"No alter egos found.\",\"aliases\":[\"Mr. I\",\"The Hero's Hero\",\"Bob Parr\"],\"placeOfBirth\":\"-\",\"firstAppearance\":\"The Incredibles (Movies, 2004)\",\"publisher\":\"Dark Horse Comics\",\"alignment\":\"good\"},\"work\":{\"occupation\":\"-\",\"base\":\"-\"},\"connections\":{\"groupAffiliation\":\"Incredible Family\",\"relatives\":\"Helen Parr (Elastigirl, wife), Violet Parr(Violet, daughter), Dashiell Parr (Dash, son), Jack-jack (son)\"},\"images\":{\"xs\":\"https://cdn.rawgit.com/akabab/superhero-api/0.2.0/api/images/xs/476-mr-incredible.jpg\",\"sm\":\"https://cdn.rawgit.com/akabab/superhero-api/0.2.0/api/images/sm/476-mr-incredible.jpg\",\"md\":\"https://cdn.rawgit.com/akabab/superhero-api/0.2.0/api/images/md/476-mr-incredible.jpg\",\"lg\":\"https://cdn.rawgit.com/akabab/superhero-api/0.2.0/api/images/lg/476-mr-incredible.jpg\"}},{\"id\":56,\"name\":\"Aurora\",\"slug\":\"56-aurora\",\"powerstats\":{\"intelligence\":63,\"strength\":10,\"speed\":96,\"durability\":60,\"power\":74,\"combat\":56},\"appearance\":{\"gender\":\"Female\",\"race\":\"Mutant\",\"height\":[\"5'11\",\"180 cm\"],\"weight\":[\"140 lb\",\"63 kg\"],\"eyeColor\":\"Blue\",\"hairColor\":\"Black\"},\"biography\":{\"fullName\":\"Jeanne-Marie Beaubier\",\"alterEgos\":\"No alter egos found.\",\"aliases\":[\"Sister Beaubier\"],\"placeOfBirth\":\"Montreal, Quebec, Canada\",\"firstAppearance\":\"X-Men #121 (1979)\",\"publisher\":\"Marvel Comics\",\"alignment\":\"good\"},\"work\":{\"occupation\":\"Adventurer; former terrorist, nun, history/geography teacher\",\"base\":\"Laval, Quebec, Canada\"},\"connections\":{\"groupAffiliation\":\"Alpha Flight, Alpha Flight (Space Program), Royal Canadian Mounted Police; formerly Weapon X, ally of the Havok's Brotherhood, Headbangers , Children of the Vault, X-Men (interim member)\",\"relatives\":\"Jean-Baptiste Beaubier (father, deceased), unidentified mother (deceased), Jean-Paul Beaubier (Northstar, twin brother) Joanna Beaubier (adopted niece, deceased); Lois and Genevieve Martin (first cousins once removed/adopted parents, deceased)\"},\"images\":{\"xs\":\"https://cdn.rawgit.com/akabab/superhero-api/0.2.0/api/images/xs/56-aurora.jpg\",\"sm\":\"https://cdn.rawgit.com/akabab/superhero-api/0.2.0/api/images/sm/56-aurora.jpg\",\"md\":\"https://cdn.rawgit.com/akabab/superhero-api/0.2.0/api/images/md/56-aurora.jpg\",\"lg\":\"https://cdn.rawgit.com/akabab/superhero-api/0.2.0/api/images/lg/56-aurora.jpg\"}},{\"id\":699,\"name\":\"Vixen\",\"slug\":\"699-vixen\",\"powerstats\":{\"intelligence\":50,\"strength\":38,\"speed\":50,\"durability\":50,\"power\":62,\"combat\":25},\"appearance\":{\"gender\":\"Female\",\"race\":\"Human\",\"height\":[\"5'9\",\"175 cm\"],\"weight\":[\"140 lb\",\"63 kg\"],\"eyeColor\":\"Amber\",\"hairColor\":\"Black\"},\"biography\":{\"fullName\":\"Mari McCabe\",\"alterEgos\":\"No alter egos found.\",\"aliases\":[\"-\"],\"placeOfBirth\":\"Zambesi\",\"firstAppearance\":\"Action Comics #521 (July, 1981)\",\"publisher\":\"DC Comics\",\"alignment\":\"good\"},\"work\":{\"occupation\":\"Former Model\",\"base\":\"-\"},\"connections\":{\"groupAffiliation\":\"Formerly Suicide Squad, Checkmate, Ultramarines, Birds of Prey, Justice League of America\",\"relatives\":\"Reverend Richard Jiwe (father, deceased), Jeanne-Mari Jiwe (mother, deceased), General Mustapha Maksai (uncle, deceased), Tantu (ancestor)\"},\"images\":{\"xs\":\"https://cdn.rawgit.com/akabab/superhero-api/0.2.0/api/images/xs/699-vixen.jpg\",\"sm\":\"https://cdn.rawgit.com/akabab/superhero-api/0.2.0/api/images/sm/699-vixen.jpg\",\"md\":\"https://cdn.rawgit.com/akabab/superhero-api/0.2.0/api/images/md/699-vixen.jpg\",\"lg\":\"https://cdn.rawgit.com/akabab/superhero-api/0.2.0/api/images/lg/699-vixen.jpg\"}},{\"id\":40,\"name\":\"Archangel\",\"slug\":\"40-archangel\",\"powerstats\":{\"intelligence\":63,\"strength\":13,\"speed\":58,\"durability\":64,\"power\":35,\"combat\":42},\"appearance\":{\"gender\":\"Male\",\"race\":\"Mutant\",\"height\":[\"6'0\",\"183 cm\"],\"weight\":[\"150 lb\",\"68 kg\"],\"eyeColor\":\"Blue\",\"hairColor\":\"Blond\"},\"biography\":{\"fullName\":\"Warren Kenneth Worthington III\",\"alterEgos\":\"Angel\",\"aliases\":[\"War\",\"Dark Angel\",\"Death\",\"Avenging Angel\"],\"placeOfBirth\":\"Centerport, Long Island, New York\",\"firstAppearance\":\"X-Men #1 (September, 1963)\",\"publisher\":\"Angel\",\"alignment\":\"good\"},\"work\":{\"occupation\":\"Adventurer, Chairman & principal stockholder of Worthington Industries, Multi-Millionaire, Heir, former terrorist\",\"base\":\"-\"},\"connections\":{\"groupAffiliation\":\"X-Men (founding member); X-Force; Mutantes Sans Fronti?res; Hellfire Club; formerly X-Club (founding member); Death's champions; Secret Defenders; X-Factor/X-Terminators (founding member); Horsemen of Apocalypse; Defenders; Champions of Los Angeles (fou\",\"relatives\":\"Wallace Worthington (paternal ancestor, deceased), Warren Worthington Sr. (paternal grandfather, deceased), Warren Worthington Jr. (father, deceased), Kathryn Worthington (mother, deceased), Burt Worthington (paternal uncle), Mimi (maternal aunt), unnamed distant cousin\"},\"images\":{\"xs\":\"https://cdn.rawgit.com/akabab/superhero-api/0.2.0/api/images/xs/40-archangel.jpg\",\"sm\":\"https://cdn.rawgit.com/akabab/superhero-api/0.2.0/api/images/sm/40-archangel.jpg\",\"md\":\"https://cdn.rawgit.com/akabab/superhero-api/0.2.0/api/images/md/40-archangel.jpg\",\"lg\":\"https://cdn.rawgit.com/akabab/superhero-api/0.2.0/api/images/lg/40-archangel.jpg\"}},{\"id\":305,\"name\":\"Guy Gardner\",\"slug\":\"305-guy-gardner\",\"powerstats\":{\"intelligence\":38,\"strength\":90,\"speed\":53,\"durability\":64,\"power\":100,\"combat\":64},\"appearance\":{\"gender\":\"Male\",\"race\":\"Human-Vuldarian\",\"height\":[\"6'2\",\"188 cm\"],\"weight\":[\"210 lb\",\"95 kg\"],\"eyeColor\":\"Blue\",\"hairColor\":\"Red\"},\"biography\":{\"fullName\":\"Guy Gardner\",\"alterEgos\":\"No alter egos found.\",\"aliases\":[\"Green Lantern\",\"Red Lantern\",\"Warrior\"],\"placeOfBirth\":\"Baltimore, Maryland\",\"firstAppearance\":\"Green Lantern Vol 2 #59\",\"publisher\":\"DC Comics\",\"alignment\":\"good\"},\"work\":{\"occupation\":\"Former High School gym teacher; former bar owner; currently Honor guard of the Green Lantern Corps\",\"base\":\"Formerly New York City; currently Oa\"},\"connections\":{\"groupAffiliation\":\"Green Lantern Corps, Formerly Justice League of America\",\"relatives\":\"-\"},\"images\":{\"xs\":\"https://cdn.rawgit.com/akabab/superhero-api/0.2.0/api/images/xs/305-guy-gardner.jpg\",\"sm\":\"https://cdn.rawgit.com/akabab/superhero-api/0.2.0/api/images/sm/305-guy-gardner.jpg\",\"md\":\"https://cdn.rawgit.com/akabab/superhero-api/0.2.0/api/images/md/305-guy-gardner.jpg\",\"lg\":\"https://cdn.rawgit.com/akabab/superhero-api/0.2.0/api/images/lg/305-guy-gardner.jpg\"}},{\"id\":491,\"name\":\"Nightwing\",\"slug\":\"491-nightwing\",\"powerstats\":{\"intelligence\":88,\"strength\":11,\"speed\":33,\"durability\":28,\"power\":36,\"combat\":100},\"appearance\":{\"gender\":\"Male\",\"race\":\"Human\",\"height\":[\"5'10\",\"178 cm\"],\"weight\":[\"175 lb\",\"79 kg\"],\"eyeColor\":\"Blue\",\"hairColor\":\"Black\"},\"biography\":{\"fullName\":\"Dick Grayson\",\"alterEgos\":\"Batman II, Robin\",\"aliases\":[\"Freddie Dinardo\",\"Freddy Loyd\",\"The Target\",\"Renegade\",\"The Worlds Greatest Acrobat\",\"The Aerial Avenger\",\"Pixie Boots\",\"The Boy / Teen Wonder\",\"The Worlds Greatest Detective\",\"The Caped Crusader\"],\"placeOfBirth\":\"Gotham City\",\"firstAppearance\":\"as Dick Grayson and Robin) Detective Comics #38, (as Nightwing) Tales of the Teen Titans #44, (as Batman) Batman #512\",\"publisher\":\"Batman II\",\"alignment\":\"good\"},\"work\":{\"occupation\":\"Vigilante and detective, former police officer, former Circus Acrobat\",\"base\":\"Wayne Tower, Gotham City; formerly the Batcave; formerly Bludhaven; formerly New York City\"},\"connections\":{\"groupAffiliation\":\"Batman Family and the JLA; formerly the Teen Titans, the New Titans, the Titans and the Outsiders\",\"relatives\":\"John Grayson (father, deceased), Mary Grayson (mother, deceased), Bruce Wayne / Batman (adoptive father), Damian Wayne / Robin (foster brother), Jason Todd / Red Hood (adoptive brother), Tim Drake / Red Robin (adoptive brother), Cassandra Cain / Batgirl IV (adoptive sister)\"},\"images\":{\"xs\":\"https://cdn.rawgit.com/akabab/superhero-api/0.2.0/api/images/xs/491-nightwing.jpg\",\"sm\":\"https://cdn.rawgit.com/akabab/superhero-api/0.2.0/api/images/sm/491-nightwing.jpg\",\"md\":\"https://cdn.rawgit.com/akabab/superhero-api/0.2.0/api/images/md/491-nightwing.jpg\",\"lg\":\"https://cdn.rawgit.com/akabab/superhero-api/0.2.0/api/images/lg/491-nightwing.jpg\"}},{\"id\":280,\"name\":\"Ghost Rider\",\"slug\":\"280-ghost-rider\",\"powerstats\":{\"intelligence\":50,\"strength\":55,\"speed\":25,\"durability\":100,\"power\":100,\"combat\":60},\"appearance\":{\"gender\":\"Male\",\"race\":\"Demon\",\"height\":[\"6'2\",\"188 cm\"],\"weight\":[\"220 lb\",\"99 kg\"],\"eyeColor\":\"Red\",\"hairColor\":\"No Hair\"},\"biography\":{\"fullName\":\"Johnny Blaze\",\"alterEgos\":\"No alter egos found.\",\"aliases\":[\"-\"],\"placeOfBirth\":\"Waukegan, Illinois\",\"firstAppearance\":\"Marvel Spotlight #5 (August, 1972)\",\"publisher\":\"Marvel Comics\",\"alignment\":\"good\"},\"work\":{\"occupation\":\"Former stunt motorcyclist\",\"base\":\"Mobile, Quentin Carnival\"},\"connections\":{\"groupAffiliation\":\"Quentin Carnival Formerly Midnight Sons, Legion of Monsters, The Champions\",\"relatives\":\"Barton (father, deceased), Clara (mother, deceased), Craig \\\"Crash\\\" Simpson (stepfather, deceased), Mona Simpson (stepmother, deceased), Roxanne Simpson (wife)\"},\"images\":{\"xs\":\"https://cdn.rawgit.com/akabab/superhero-api/0.2.0/api/images/xs/280-ghost-rider.jpg\",\"sm\":\"https://cdn.rawgit.com/akabab/superhero-api/0.2.0/api/images/sm/280-ghost-rider.jpg\",\"md\":\"https://cdn.rawgit.com/akabab/superhero-api/0.2.0/api/images/md/280-ghost-rider.jpg\",\"lg\":\"https://cdn.rawgit.com/akabab/superhero-api/0.2.0/api/images/lg/280-ghost-rider.jpg\"}},{\"id\":311,\"name\":\"Havok\",\"slug\":\"311-havok\",\"powerstats\":{\"intelligence\":63,\"strength\":10,\"speed\":25,\"durability\":60,\"power\":71,\"combat\":45},\"appearance\":{\"gender\":\"Male\",\"race\":\"Mutant\",\"height\":[\"6'\",\"183 cm\"],\"weight\":[\"175 lb\",\"79 kg\"],\"eyeColor\":\"Blue\",\"hairColor\":\"Blond\"},\"biography\":{\"fullName\":\"Alexander Summers\",\"alterEgos\":\"No alter egos found.\",\"aliases\":[\"Mutant X\",\"Goblin Prince\"],\"placeOfBirth\":\"Honolulu, Hawaii\",\"firstAppearance\":\"X-MEN #58\",\"publisher\":\"Marvel Comics\",\"alignment\":\"good\"},\"work\":{\"occupation\":\"Currently Adventurer, formerly Graduate student in geophysics\",\"base\":\"Alexandria, Virginia\"},\"connections\":{\"groupAffiliation\":\"Uncanny Avengers; formerly X-Men, Starjammers, X-Factor Investigations, Six , Brotherhood, X-Factor, Dark Descendants, Genoshan Magistrates, Defenders for a Day\",\"relatives\":\"Oscar Summers (adoptive paternal distant ancestor, deceased), Daniel Summers (paternal distant ancestor, deceased), Amanda Mueller (Black Womb) (paternal distant ancestor), unnamed paternal great-grandfather, deceased, Gloria Dayne (Fontanelle) (paternal distant ancestor), Philip Summers (paternal grandfather), Deborah Summers (paternal grandmother), Christopher Summers (Corsair) (father, deceased), Katherine Summers (mother, deceased), Andrew Blanding (adoptive father), Joanna Blanding (adoptive mother), Scott Summers (Cyclops) (brother), Gabriel Summers (Vulcan) (brother, deceased), Ahmet Abdol (Living Monolith) (\\\"brother\\\" via X-Gene transfer), Haley Blanding (adoptive sister), Todd Blanding (adoptive brother, deceased), Madelyne Pryor-Summers (Red Queen) (sister-in-law/clone of second sister-in-law, deceased), Jean Grey-Summers (Phoenix) (sister-in-law, deceased), Cal'syee Neramani (Deathbird) (sister-in-law), Nathan Summers (Cable) (nephew), Adam Neramani (X-Treme) (nephew, alleged half-brother), Aliya Dayspring (Jenskot) (niece, deceased), Hope Summers (niece, deceased), Madelyne Pryor (Earth-1298) (Marvel Woman) (alternate reality wife), Scott Summers (Earth-1298) (alternate reality son), Rachel Grey (Marvel Girl) (alternate reality niece), Rachel Summers (Mother Askani) (alternate reality niece, deceased), Nathaniel Grey (X-Man) (alternate reality nephew), Stryfe (nephew's clone, deceased), Tyler Dayspring (Genesis) (great-nephew, deceased), Hope Summers (adoptive great-niece), Janet van Dyne (Wasp) (wife), Katie Summers (daughter)\"},\"images\":{\"xs\":\"https://cdn.rawgit.com/akabab/superhero-api/0.2.0/api/images/xs/311-havok.jpg\",\"sm\":\"https://cdn.rawgit.com/akabab/superhero-api/0.2.0/api/images/sm/311-havok.jpg\",\"md\":\"https://cdn.rawgit.com/akabab/superhero-api/0.2.0/api/images/md/311-havok.jpg\",\"lg\":\"https://cdn.rawgit.com/akabab/superhero-api/0.2.0/api/images/lg/311-havok.jpg\"}},{\"id\":257,\"name\":\"Firebird\",\"slug\":\"257-firebird\",\"powerstats\":{\"intelligence\":38,\"strength\":8,\"speed\":40,\"durability\":14,\"power\":100,\"combat\":42},\"appearance\":{\"gender\":\"Female\",\"race\":null,\"height\":[\"5'5'\",\"165 cm\"],\"weight\":[\"125 lb\",\"56 kg\"],\"eyeColor\":\"Brown\",\"hairColor\":\"Black\"},\"biography\":{\"fullName\":\"Bonita Juarez\",\"alterEgos\":\"No alter egos found.\",\"aliases\":[\"Pajaro Del Fuego\",\"La Espirita\",\"Firemaiden\"],\"placeOfBirth\":\"Buena Vista, New Mexico\",\"firstAppearance\":\"INCREDIBLE HULK Vol. 2 #265\",\"publisher\":\"Marvel Comics\",\"alignment\":\"good\"},\"work\":{\"occupation\":\"Social worker, adventurer\",\"base\":\"New Mexico\"},\"connections\":{\"groupAffiliation\":\"Catholic Church; formerly the Rangers, provisional member of the Avengers West Coast, Queen's Vengeance\",\"relatives\":\"-\"},\"images\":{\"xs\":\"https://cdn.rawgit.com/akabab/superhero-api/0.2.0/api/images/xs/257-firebird.jpg\",\"sm\":\"https://cdn.rawgit.com/akabab/superhero-api/0.2.0/api/images/sm/257-firebird.jpg\",\"md\":\"https://cdn.rawgit.com/akabab/superhero-api/0.2.0/api/images/md/257-firebird.jpg\",\"lg\":\"https://cdn.rawgit.com/akabab/superhero-api/0.2.0/api/images/lg/257-firebird.jpg\"}},{\"id\":242,\"name\":\"Enchantress\",\"slug\":\"242-enchantress\",\"powerstats\":{\"intelligence\":63,\"strength\":14,\"speed\":25,\"durability\":60,\"power\":100,\"combat\":40},\"appearance\":{\"gender\":\"Female\",\"race\":\"Human\",\"height\":[\"5'6\",\"168 cm\"],\"weight\":[\"126 lb\",\"57 kg\"],\"eyeColor\":\"Blue\",\"hairColor\":\"Blond\"},\"biography\":{\"fullName\":\"June Moone\",\"alterEgos\":\"No alter egos found.\",\"aliases\":[\"Anita Soulfeeda\",\"Soulsinger\"],\"placeOfBirth\":\"-\",\"firstAppearance\":\"Strange Adventures #187\",\"publisher\":\"DC Comics\",\"alignment\":\"good\"},\"work\":{\"occupation\":\"Artist; Magician\",\"base\":\"-\"},\"connections\":{\"groupAffiliation\":\"Forgotten Villains, Sentinels of Magic, Shadowpact, Suicide Squad\",\"relatives\":\"-\"},\"images\":{\"xs\":\"https://cdn.rawgit.com/akabab/superhero-api/0.2.0/api/images/xs/242-enchantress.jpg\",\"sm\":\"https://cdn.rawgit.com/akabab/superhero-api/0.2.0/api/images/sm/242-enchantress.jpg\",\"md\":\"https://cdn.rawgit.com/akabab/superhero-api/0.2.0/api/images/md/242-enchantress.jpg\",\"lg\":\"https://cdn.rawgit.com/akabab/superhero-api/0.2.0/api/images/lg/242-enchantress.jpg\"}},{\"id\":39,\"name\":\"Arachne\",\"slug\":\"39-arachne\",\"powerstats\":{\"intelligence\":50,\"strength\":48,\"speed\":50,\"durability\":70,\"power\":71,\"combat\":70},\"appearance\":{\"gender\":\"Female\",\"race\":\"Human\",\"height\":[\"5'9\",\"175 cm\"],\"weight\":[\"140 lb\",\"63 kg\"],\"eyeColor\":\"Blue\",\"hairColor\":\"Blond\"},\"biography\":{\"fullName\":\"Julia Carpenter\",\"alterEgos\":\"No alter egos found.\",\"aliases\":[\"Spider-Woman\",\"Madame Web\"],\"placeOfBirth\":\"Los Angeles, California\",\"firstAppearance\":\"Marvel Super Heroes Secret Wars #6\",\"publisher\":\"Marvel Comics\",\"alignment\":\"good\"},\"work\":{\"occupation\":\"Adventurer, fugitive, former government agent\",\"base\":\"Mobile; formerly Denver, Colorado; formerly Avengers Compound, Los Angeles, California\"},\"connections\":{\"groupAffiliation\":\"Omega Flight, formerly Commission on Superhuman Activities , Freedom Force , Avengers , Secret Defenders , Force Works , Queen?s Vengeance , West Coast Avengers, Secret Avengers (Civil War)\",\"relatives\":\"Rachel Carpenter (daughter), Walter Cornwall (father), Elizabeth Cornwall (mother), Larry Carpenter (ex-husband, deceased)\"},\"images\":{\"xs\":\"https://cdn.rawgit.com/akabab/superhero-api/0.2.0/api/images/xs/39-arachne.jpg\",\"sm\":\"https://cdn.rawgit.com/akabab/superhero-api/0.2.0/api/images/sm/39-arachne.jpg\",\"md\":\"https://cdn.rawgit.com/akabab/superhero-api/0.2.0/api/images/md/39-arachne.jpg\",\"lg\":\"https://cdn.rawgit.com/akabab/superhero-api/0.2.0/api/images/lg/39-arachne.jpg\"}},{\"id\":495,\"name\":\"Northstar\",\"slug\":\"495-northstar\",\"powerstats\":{\"intelligence\":50,\"strength\":18,\"speed\":83,\"durability\":56,\"power\":65,\"combat\":70},\"appearance\":{\"gender\":\"Male\",\"race\":null,\"height\":[\"5'11\",\"180 cm\"],\"weight\":[\"185 lb\",\"83 kg\"],\"eyeColor\":\"Blue\",\"hairColor\":\"Black\"},\"biography\":{\"fullName\":\"Jean-Paul Beaubier\",\"alterEgos\":\"No alter egos found.\",\"aliases\":[\"Jean-Paul Martin\"],\"placeOfBirth\":\"Montreal, Qu?bec, Canada\",\"firstAppearance\":\"X-Men #120 (1979)\",\"publisher\":\"Marvel Comics\",\"alignment\":\"good\"},\"work\":{\"occupation\":\"Former terrorist, adventurer, teacher, businessman, novelist, professional skier, trapeze artist, thief\",\"base\":\"-\"},\"connections\":{\"groupAffiliation\":\"None, formerly Hydra, Xavier Institute Faculty/Alpha Squadron (teacher/advisor), X-Men, Alpha Flight, Front de Lib?ration du Qu?bec/Cell Combattre\",\"relatives\":\"Jean-Baptiste Beaubier (father, deceased), unnamed mother (deceased), Louis Martin (adoptive father, deceased), unnamed adoptive mother (deceased), Jeanne-Marie Beaubier (Aurora, sister), Joanne Beaubier (adopted daughter, deceased)\"},\"images\":{\"xs\":\"https://cdn.rawgit.com/akabab/superhero-api/0.2.0/api/images/xs/495-northstar.jpg\",\"sm\":\"https://cdn.rawgit.com/akabab/superhero-api/0.2.0/api/images/sm/495-northstar.jpg\",\"md\":\"https://cdn.rawgit.com/akabab/superhero-api/0.2.0/api/images/md/495-northstar.jpg\",\"lg\":\"https://cdn.rawgit.com/akabab/superhero-api/0.2.0/api/images/lg/495-northstar.jpg\"}},{\"id\":261,\"name\":\"Firestorm\",\"slug\":\"261-firestorm\",\"powerstats\":{\"intelligence\":38,\"strength\":80,\"speed\":58,\"durability\":80,\"power\":100,\"combat\":40},\"appearance\":{\"gender\":\"Male\",\"race\":\"Human\",\"height\":[\"6'2\",\"188 cm\"],\"weight\":[\"202 lb\",\"91 kg\"],\"eyeColor\":\"Blue\",\"hairColor\":\"Auburn\"},\"biography\":{\"fullName\":\"Ronald Raymond\",\"alterEgos\":\"No alter egos found.\",\"aliases\":[\"Ronnie\",\"Roy\",\"Ronald Rockwell\",\"Flamehead\"],\"placeOfBirth\":\"-\",\"firstAppearance\":\"Firestorm #1 (March, 1978)\",\"publisher\":\"DC Comics\",\"alignment\":\"good\"},\"work\":{\"occupation\":\"Adventurer; former employee of Bun 'n Run\",\"base\":\"Formerly Manhattan, New York City; Ivy University, Ivy Town; Pittsburgh, Pennsylvania\"},\"connections\":{\"groupAffiliation\":\"Firestorm Matrix, Justice League,formerly Black Lantern Corps, Power Company, White Lantern Corps\",\"relatives\":\"Edward Raymond (father); Elaine Rockwell (mother, deceased); Felicity Smoak-Raymond (stepmother); Richard Dare (grandfather)\"},\"images\":{\"xs\":\"https://cdn.rawgit.com/akabab/superhero-api/0.2.0/api/images/xs/261-firestorm.jpg\",\"sm\":\"https://cdn.rawgit.com/akabab/superhero-api/0.2.0/api/images/sm/261-firestorm.jpg\",\"md\":\"https://cdn.rawgit.com/akabab/superhero-api/0.2.0/api/images/md/261-firestorm.jpg\",\"lg\":\"https://cdn.rawgit.com/akabab/superhero-api/0.2.0/api/images/lg/261-firestorm.jpg\"}}]\n"
     ]
    }
   ],
   "source": [
    "import requests\n",
    "\n",
    "url = \"https://superhero-search.p.rapidapi.com/api/heroes\"\n",
    "\n",
    "headers = {\n",
    "\t\"X-RapidAPI-Key\": \"429049e20amsh168c822ee8b3e75p1d8e72jsncf75688bb197\",\n",
    "\t\"X-RapidAPI-Host\": \"superhero-search.p.rapidapi.com\"\n",
    "}\n",
    "\n",
    "response = requests.request(\"GET\", url, headers=headers)\n",
    "\n",
    "print(response.text)"
   ]
  }
 ],
 "metadata": {
  "kernelspec": {
   "display_name": "Python 3.10.6 64-bit",
   "language": "python",
   "name": "python3"
  },
  "language_info": {
   "codemirror_mode": {
    "name": "ipython",
    "version": 3
   },
   "file_extension": ".py",
   "mimetype": "text/x-python",
   "name": "python",
   "nbconvert_exporter": "python",
   "pygments_lexer": "ipython3",
   "version": "3.10.4"
  },
  "orig_nbformat": 4,
  "vscode": {
   "interpreter": {
    "hash": "aee8b7b246df8f9039afb4144a1f6fd8d2ca17a180786b69acc140d282b71a49"
   }
  }
 },
 "nbformat": 4,
 "nbformat_minor": 2
}
