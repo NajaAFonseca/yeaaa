{
 "cells": [
  {
   "cell_type": "markdown",
   "metadata": {},
   "source": [
    "# \"Cross Country ♡\"\n",
    "> My favorite sport is Cross Country, here are my thoughts.\n",
    "\n",
    "\n",
    "- toc: true\n",
    "- branch: master\n",
    "- badges: true\n",
    "- comments: true\n",
    "- author: Naja Fonseca\n",
    "- categories: [markdown]"
   ]
  },
  {
   "cell_type": "markdown",
   "metadata": {},
   "source": [
    "## Why I like Cross Country\n",
    "\n",
    "Cross Country is a team based sport that tests your mental toughness to its limits. It is a horrible sport in all honesty and it would be a lie if I were to say I loved it. But I do... at times. I love the sport because I get to hangout with my friends and some part of running relaxes me becase it takes my mind off of worrying about school while I'm running at practice.\n",
    "\n",
    "Running isn't easy though, as I said. It's a mentally toughening sport and at times you'll definitely want to give up. I like the challenge though and even though I'm dying throughout all the workouts, I like the feeling of accomplishment of being done. "
   ]
  },
  {
   "cell_type": "markdown",
   "metadata": {},
   "source": [
    "## Benefits of Cross Country\n",
    "\n",
    "There are many benefits of cross country. Here is what I think I benefit from:\n",
    "\n",
    "‣ You can stay fit. \n",
    "\n",
    "‣ You get to make lots of new friends. \n",
    "\n",
    "‣ It's a lot of fun. \n",
    "\n",
    "‣ Helps reduce stress/takes your mind off things. \n",
    "\n",
    "‣ You become mentally tougher. \n",
    "\n",
    "‣ You learn about running and form.  "
   ]
  },
  {
   "cell_type": "markdown",
   "metadata": {},
   "source": [
    "## Teammates and Good Sportsmanship\n",
    "\n",
    "It's important to bond as a team and lift each other up because as I said before... this sport is not easy at all. Along with this, you should have good sportsmanship because almost every other runner feels the same way you feel during a race. It's ok to celebrate after, of course, but congratulate others as well before you do. Running 3 miles isn't easy so you should celebrate with those around you rather than doing it alone. It's easy to make friends with people from the other team by simply saying, \"Good Job!\" Almost everybody in cross country is positive and uplifting (which also makes it easier to interact with other teams/people).  "
   ]
  }
 ],
 "metadata": {
  "kernelspec": {
   "display_name": "Python 3.10.4 64-bit",
   "language": "python",
   "name": "python3"
  },
  "language_info": {
   "name": "python",
   "version": "3.10.4"
  },
  "orig_nbformat": 4,
  "vscode": {
   "interpreter": {
    "hash": "aee8b7b246df8f9039afb4144a1f6fd8d2ca17a180786b69acc140d282b71a49"
   }
  }
 },
 "nbformat": 4,
 "nbformat_minor": 2
}
