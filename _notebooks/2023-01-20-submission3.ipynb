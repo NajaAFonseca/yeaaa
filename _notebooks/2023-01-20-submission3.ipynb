{
 "cells": [
  {
   "cell_type": "markdown",
   "metadata": {},
   "source": [
    "# \"Performance Task Scoring 3\"\n",
    "> Looking at student examples presented for College Board and grading them to see if they meet the criteria\n",
    "\n",
    "- toc: true\n",
    "- branch: master\n",
    "- badges: true\n",
    "- comments: true\n",
    "- author: Naja Fonseca\n",
    "- categories: [fastpages]"
   ]
  },
  {
   "attachments": {},
   "cell_type": "markdown",
   "metadata": {},
   "source": [
    "### Submission 1\n",
    "\n",
    "|Reporting Category|Student Score|College Board Score|Comments|College Board Comments|\n",
    "|---|---|---|---|---|\n",
    "|Program Purpose and Function|1|1|The video shows input, output and program functionality. Follows written response criteria by dsecribing program purpose, functionality, input, and output. | Video demonstrates running of program, keyboard input, output prompts satisfying video criteria. Wrtitten response criteria met by described functionality, input, output, and program purpose.|\n",
    "|Data Abstraction|1|0|Written response shows two code segments. The response identifies the name of the variable representing the list and describes the data contained in the list. | Two code segments were shown, however the second segment does not showcase data being accessed from the list. Every other requirement is met besides this one. |\n",
    "|Managing Complexity|0|0|The student shows a list that manages complexity, but does not explain how it manages complexity because they do not explain why the code could not work without this list or could be written differently.|The student meets neither two criteria. List does not manage complexity because they could use an if statement to set the cpuPlay variable to a random number. Written response of why the code manages complexity is incorrect because what they say is just as easy to develop or maintain as the one with lists.|\n",
    "|Procedural Abstraction|1|0|The student includes a two code segments: one that shows a student developed procedure with at least one parameter and shows where said procedure is being called. The student also describes the functionality of the program.| The student meets first criteria, but not second. The criteria is not met because the response does not specify how the procedure contributes to the **overall** program.|\n",
    "|Algorithm Implementation|1|1|Written response includes a student-developed algorithm that includes: sequencing, selection, and iteration. And the student explains in enough detail how the identified algorithm works and someone could recreate it using such info.| The student meets the first criteria of an algorithm with: sequencing, selection, and iteration. The second criteria is also met through the students written response.|\n",
    "|Testing|1|1|The student describes two different calls in answer section 3c each passing a different argument that causes a different segment of code in the algorithm to execute. In answers 3d, the student describes two conditions being tested by each call procedure and identifies the result of each and every call.|Student response describes two calls to the procedure with different arguments, leading to different results. As well as, describing the conditions being tested for the two procedure calls and identifying the results of each call.|"
   ]
  },
  {
   "attachments": {},
   "cell_type": "markdown",
   "metadata": {},
   "source": [
    "### Submission 2\n",
    "\n",
    "|Reporting Category|Student Score|College Board Score|Comments|College Board Comments|\n",
    "|---|---|---|---|---|\n",
    "|Program Purpose and Function|1|1|Video demonstrates: input, program functionality, + output. Written response describes overall program purpose, functionality, + describes input and output. | The video met all 6 criteria. Vide: input, program functionality, + output. Written: program purpose, functionality, + input/output.|\n",
    "|Data Abstraction|0|1|Written response contains two code segments: one showing how data has been stored in a list and the other showing how the data in the list is being used to fulfill the program purpose. However, does not use name of list being used in reponse and does not describe what the data in the list is representing in the program.|Two distinct code segments, name of list is identified, + response identifies what is stored in the lsit. |\n",
    "|Managing Complexity|1|1| Includes a code segment that is used to manage complexity in the program. And writes about how the code segment would be inefficient without it because of the additional steps it would take to fill in.|Includes a code segment that manages complexity + response explains how the code would be written differently without the list.|\n",
    "|Procedural Abstraction|1|1|The written response includes two code segments: a student-develoepd procedure with at least one parameter + one showing where the student-developed procedure is being called. The student describes what the identified procedure does and how it contributes to the overall functionality of the program. |The response includes a student-developed procedure + response describes the functionality of the procedure.|\n",
    "|Algorithm Implementation|1|1|Includes student-developed code segment that has: sequeincing, iteration, + selection. The student explains in very thorough steps how the identified algorithm works so it is easily recreateable.| The student-developed algorithm within procedure, guessWords, includes sequencing, selection (if statement), and iteration (for loop). And response explains in detail how the algorithm in the procedure works so it can be recreated.|\n",
    "|Testing|1|1|Describes two calls in response section 3c + describes conditions being tested and identifies the result of each call.|Stupdent response describes two different calls to the specific procedure to result in different code being executed. The student describes the conditions being tested + describes the result of two calls.|"
   ]
  },
  {
   "attachments": {},
   "cell_type": "markdown",
   "metadata": {},
   "source": [
    "### Submission 3\n",
    "\n",
    "|Reporting Category|Student Score|College Board Score|Comments|College Board Comments|\n",
    "|---|---|---|---|---|\n",
    "|Program Purpose and Function|1|1|Video demonstrates: input, output, + program functionality. Written response describes program purpose, functionality, + input/output.|Written: response specifies the program’s purpose, response describes the functionality demonstrated in the video, + response describes the input and the output. Video: demonstrates the running of the program, showing input into the program using a drop-down list + displaying output results on the screen as a picture of a state flag and other data related to a state such as area and population.|\n",
    "|Data Abstraction|1|1|Two code segments, one shows data being stored in a list, the other does not. Identifies the name of the variable. And response is inaccurate as stateList only contains information following the names of States.|Two distinct code segments are provided, but only the second code segment shows data being stored in the identified list. Name of the list is identified as stateList. Description is inaccurate as the identified list stateList appears to represent only the state name.|\n",
    "|Managing Complexity|1|1|comment|CBcomment|\n",
    "|Procedural Abstraction|1|1|comment|CBcomment|\n",
    "|Algorithm Implementation|1|1|comment|CBcomment|\n",
    "|Testing|1|1|comment|CBcomment|"
   ]
  },
  {
   "attachments": {},
   "cell_type": "markdown",
   "metadata": {},
   "source": [
    "### Submission 4\n",
    "\n",
    "|Reporting Category|Student Score|College Board Score|Comments|College Board Comments|\n",
    "|---|---|---|---|---|\n",
    "|Program Purpose and Function|1|1|comment|CBcomment|\n",
    "|Data Abstraction|1|1|comment|CBcomment|\n",
    "|Managing Complexity|1|1|comment|CBcomment|\n",
    "|Procedural Abstraction|1|1|comment|CBcomment|\n",
    "|Algorithm Implementation|1|1|comment|CBcomment|\n",
    "|Testing|1|1|comment|CBcomment|"
   ]
  }
 ],
 "metadata": {
  "kernelspec": {
   "display_name": "Python 3",
   "language": "python",
   "name": "python3"
  },
  "language_info": {
   "name": "python",
   "version": "3.10.4 (v3.10.4:9d38120e33, Mar 23 2022, 17:29:05) [Clang 13.0.0 (clang-1300.0.29.30)]"
  },
  "orig_nbformat": 4,
  "vscode": {
   "interpreter": {
    "hash": "aee8b7b246df8f9039afb4144a1f6fd8d2ca17a180786b69acc140d282b71a49"
   }
  }
 },
 "nbformat": 4,
 "nbformat_minor": 2
}
