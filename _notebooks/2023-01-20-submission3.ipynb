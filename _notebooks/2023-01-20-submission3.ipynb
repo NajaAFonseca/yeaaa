{
 "cells": [
  {
   "cell_type": "markdown",
   "metadata": {},
   "source": [
    "# \"Performance Task Scoring 3\"\n",
    "> Looking at student examples presented for College Board and grading them to see if they meet the criteria\n",
    "\n",
    "- toc: true\n",
    "- branch: master\n",
    "- badges: true\n",
    "- comments: true\n",
    "- author: Naja Fonseca\n",
    "- categories: [fastpages]"
   ]
  },
  {
   "attachments": {},
   "cell_type": "markdown",
   "metadata": {},
   "source": [
    "### Submission 1\n",
    "\n",
    "|Reporting Category|Student Score|College Board Score|Comments|College Board Comments|\n",
    "|---|---|---|---|---|\n",
    "|Program Purpose and Function|1|1|The video shows input, output and program functionality. Follows written response criteria by dsecribing program purpose, functionality, input, and output. | Video demonstrates running of program, keyboard input, output prompts satisfying video criteria. Wrtitten response criteria met by described functionality, input, output, and program purpose.|\n",
    "|Data Abstraction|1|1|Written response shows two code segments. The response identifies the name of the variable representing the list and describes the data contained in the list |CBcomment|\n",
    "|Managing Complexity|1|1|comment|CBcomment|\n",
    "|Procedural Abstraction|1|1|comment|CBcomment|\n",
    "|Algorithm Implementation|1|1|comment|CBcomment|\n",
    "|Testing|1|1|comment|CBcomment|"
   ]
  },
  {
   "attachments": {},
   "cell_type": "markdown",
   "metadata": {},
   "source": [
    "### Submission 2\n",
    "\n",
    "|Reporting Category|Student Score|College Board Score|Comments|College Board Comments|\n",
    "|---|---|---|---|---|\n",
    "|Program Purpose and Function|1|1|comment|CBcomment|\n",
    "|Data Abstraction|1|1|comment|CBcomment|\n",
    "|Managing Complexity|1|1|comment|CBcomment|\n",
    "|Procedural Abstraction|1|1|comment|CBcomment|\n",
    "|Algorithm Implementation|1|1|comment|CBcomment|\n",
    "|Testing|1|1|comment|CBcomment|"
   ]
  },
  {
   "attachments": {},
   "cell_type": "markdown",
   "metadata": {},
   "source": [
    "### Submission 3\n",
    "\n",
    "|Reporting Category|Student Score|College Board Score|Comments|College Board Comments|\n",
    "|---|---|---|---|---|\n",
    "|Program Purpose and Function|1|1|comment|CBcomment|\n",
    "|Data Abstraction|1|1|comment|CBcomment|\n",
    "|Managing Complexity|1|1|comment|CBcomment|\n",
    "|Procedural Abstraction|1|1|comment|CBcomment|\n",
    "|Algorithm Implementation|1|1|comment|CBcomment|\n",
    "|Testing|1|1|comment|CBcomment|"
   ]
  },
  {
   "attachments": {},
   "cell_type": "markdown",
   "metadata": {},
   "source": [
    "### Submission 4\n",
    "\n",
    "|Reporting Category|Student Score|College Board Score|Comments|College Board Comments|\n",
    "|---|---|---|---|---|\n",
    "|Program Purpose and Function|1|1|comment|CBcomment|\n",
    "|Data Abstraction|1|1|comment|CBcomment|\n",
    "|Managing Complexity|1|1|comment|CBcomment|\n",
    "|Procedural Abstraction|1|1|comment|CBcomment|\n",
    "|Algorithm Implementation|1|1|comment|CBcomment|\n",
    "|Testing|1|1|comment|CBcomment|"
   ]
  }
 ],
 "metadata": {
  "kernelspec": {
   "display_name": "Python 3",
   "language": "python",
   "name": "python3"
  },
  "language_info": {
   "name": "python",
   "version": "3.10.4 (v3.10.4:9d38120e33, Mar 23 2022, 17:29:05) [Clang 13.0.0 (clang-1300.0.29.30)]"
  },
  "orig_nbformat": 4,
  "vscode": {
   "interpreter": {
    "hash": "aee8b7b246df8f9039afb4144a1f6fd8d2ca17a180786b69acc140d282b71a49"
   }
  }
 },
 "nbformat": 4,
 "nbformat_minor": 2
}
