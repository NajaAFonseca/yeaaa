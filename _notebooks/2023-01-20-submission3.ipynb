{
 "cells": [
  {
   "cell_type": "markdown",
   "metadata": {},
   "source": [
    "# \"Performance Task Scoring 3\"\n",
    "> Looking at student examples presented for College Board and grading them to see if they meet the criteria\n",
    "\n",
    "- toc: true\n",
    "- branch: master\n",
    "- badges: true\n",
    "- comments: true\n",
    "- author: Naja Fonseca\n",
    "- categories: [fastpages]"
   ]
  },
  {
   "attachments": {},
   "cell_type": "markdown",
   "metadata": {},
   "source": [
    "### Submission 1\n",
    "\n",
    "|Reporting Category|Student Score|College Board Score|Comments|College Board Comments|\n",
    "|---|---|---|---|---|\n",
    "|Program Purpose and Function|1|1|The video shows input, output and program functionality. Follows written response criteria by dsecribing program purpose, functionality, input, and output. | Video demonstrates running of program, keyboard input, output prompts satisfying video criteria. Wrtitten response criteria met by described functionality, input, output, and program purpose.|\n",
    "|Data Abstraction|1|0|Written response shows two code segments. The response identifies the name of the variable representing the list and describes the data contained in the list. | Two code segments were shown, however the second segment does not showcase data being accessed from the list. Every other requirement is met besides this one. |\n",
    "|Managing Complexity|0|0|The student shows a list that manages complexity, but does not explain how it manages complexity because they do not explain why the code could not work without this list or could be written differently.|The student meets neither two criteria. List does not manage complexity because they could use an if statement to set the cpuPlay variable to a random number. Written response of why the code manages complexity is incorrect because what they say is just as easy to develop or maintain as the one with lists.|\n",
    "|Procedural Abstraction|1|0|The student includes a two code segments: one that shows a student developed procedure with at least one parameter and shows where said procedure is being called. The student also describes the functionality of the program.| The student meets first criteria, but not second. The criteria is not met because the response does not specify how the procedure contributes to the **overall** program.|\n",
    "|Algorithm Implementation|1|1|Written response includes a student-developed algorithm that includes: sequencing, selection, and iteration. And the student explains in enough detail how the identified algorithm works and someone could recreate it using such info.| The student meets the first criteria of an algorithm with: sequencing, selection, and iteration. The second criteria is also met through the students written response.|\n",
    "|Testing|1|1|The student describes two different calls in answer section 3c each passing a different argument that causes a different segment of code in the algorithm to execute. In answers 3d, the student describes two conditions being tested by each call procedure and identifies the result of each and every call.|Student response describes two calls to the procedure with different arguments, leading to different results. As well as, describing the conditions being tested for the two procedure calls and identifying the results of each call.|"
   ]
  },
  {
   "attachments": {},
   "cell_type": "markdown",
   "metadata": {},
   "source": [
    "### Submission 2\n",
    "\n",
    "|Reporting Category|Student Score|College Board Score|Comments|College Board Comments|\n",
    "|---|---|---|---|---|\n",
    "|Program Purpose and Function|1|1|Video demonstrates: input, program functionality, + output. Written response describes overall program purpose, functionality, + describes input and output. | The video met all 6 criteria. Vide: input, program functionality, + output. Written: program purpose, functionality, + input/output.|\n",
    "|Data Abstraction|0|1|Written response contains two code segments: one showing how data has been stored in a list and the other showing how the data in the list is being used to fulfill the program purpose. However, does not use name of list being used in reponse and does not describe what the data in the list is representing in the program.|Two distinct code segments, name of list is identified, + response identifies what is stored in the lsit. |\n",
    "|Managing Complexity|1|1| Includes a code segment that is used to manage complexity in the program. And writes about how the code segment would be inefficient without it because of the additional steps it would take to fill in.|Includes a code segment that manages complexity + response explains how the code would be written differently without the list.|\n",
    "|Procedural Abstraction|1|1|The written response includes two code segments: a student-develoepd procedure with at least one parameter + one showing where the student-developed procedure is being called. The student describes what the identified procedure does and how it contributes to the overall functionality of the program. |The response includes a student-developed procedure + response describes the functionality of the procedure.|\n",
    "|Algorithm Implementation|1|1|Includes student-developed code segment that has: sequeincing, iteration, + selection. The student explains in very thorough steps how the identified algorithm works so it is easily recreateable.| The student-developed algorithm within procedure, guessWords, includes sequencing, selection (if statement), and iteration (for loop). And response explains in detail how the algorithm in the procedure works so it can be recreated.|\n",
    "|Testing|1|1|Describes two calls in response section 3c + describes conditions being tested and identifies the result of each call.|Stupdent response describes two different calls to the specific procedure to result in different code being executed. The student describes the conditions being tested + describes the result of two calls.|"
   ]
  },
  {
   "attachments": {},
   "cell_type": "markdown",
   "metadata": {},
   "source": [
    "### Submission 3\n",
    "\n",
    "|Reporting Category|Student Score|College Board Score|Comments|College Board Comments|\n",
    "|---|---|---|---|---|\n",
    "|Program Purpose and Function|1|1|Video demonstrates: input, output, + program functionality. Written response describes program purpose, functionality, + input/output.|Written: response specifies the program’s purpose, response describes the functionality demonstrated in the video, + response describes the input and the output. Video: demonstrates the running of the program, showing input into the program using a drop-down list + displaying output results on the screen as a picture of a state flag and other data related to a state such as area and population.|\n",
    "|Data Abstraction|0|0|Two code segments, one shows data being stored in a list, the other does not. Identifies the name of the variable. And response is inaccurate as stateList only contains information following the names of States.|Two distinct code segments are provided, but only the second code segment shows data being stored in the identified list. Name of the list is identified as stateList. Description is inaccurate as the identified list stateList appears to represent only the state name.|\n",
    "|Managing Complexity|0|0|Includes program segment that shows managing comlpexity but written response does not specify a simplified way to write the code or how the code would not work without this code.|The response includes code that uses lists to manage complexity; however, the response does not explain how the specific code cannot be written without a list or would be written in a more complex manner.|\n",
    "|Procedural Abstraction|0|0|Two code segments, lackinga single parameter, and no call is related to the second code segment. Therefore, also inaccurately describing what the identified procedure does and does not answer how it contributes to overall functionality of the program.|The response includes a student-developed procedure, updateScreen, but it does not have any parameter. In addition, the second code segment does not show any call to the procedure updateScreen. The response inaccurately describes the functionality of the procedure + the procedure only sets an index and does not update the state screen. The response does not describe how this procedure contributes to the overall functionality.|\n",
    "|Algorithm Implementation|0|0|Includes code segment including: sequencing, iteration, + selection. Does not explainly thoroughly enough that the identified algorithm could be recreated.|The student-developed algorithm within procedure updateScreen includes sequencing, and selection (if/else), but it does not include **iteration**. The response does not state that the index value is set based on the match and what value is set for each U.S. state. Although it partially explains how the algorithm in updateScreen works.|\n",
    "|Testing|1|0|Includes answers to both calls, conditions, + results.|However, the response describes two calls from the specified procedure, rather than two calls to the specified procedure. The response describes the two separate operations being performed by the user, not conditions being tested by the given parameter. The response does not specify the result of two calls to the given procedure.|"
   ]
  },
  {
   "attachments": {},
   "cell_type": "markdown",
   "metadata": {},
   "source": [
    "### Submission 4\n",
    "\n",
    "|Reporting Category|Student Score|College Board Score|Comments|College Board Comments|\n",
    "|---|---|---|---|---|\n",
    "|Program Purpose and Function|1|1|Video demonstrates: input, output, + program functionality. Written response includes: input/output, description of program purpose + functionality.|The video demonstrates: the running of the program, input through movement of the boat as the user presses keys, + output includes movement of the boat and the score. Written reponse: specifies the program’s purpose is to “lessen boredom.”, response describes the functionality demonstrated in the video, response describes the input and the output.|\n",
    "|Data Abstraction|1|1| Program segments: one that shows how data has been stored in the list + other that shows the same data in the list being used, identifies the name of the variable representing the list, and describes what the data in the list is representing.|Two distinct code segments are provided: first segment shows data being stored in the identified list, second segment shows data being accessed from the identified list in a for loop, name of the list is identified as fishtypes, + response identifies what is stored in the list.|\n",
    "|Managing Complexity|1|1|Shows a list being used to manage complexity + explains how the list makes the code more efficient than taking longer, tedious steps to create the same code in a more complex way.|Student response includes code that uses a list of lists to manage complexity. The main list represents fish, where each list element is also a list that stores the type of fish and the number of that type of fish that are caught + response explains how the code can be written without using lists in a plausible manner.|\n",
    "|Procedural Abstraction|1|1|Program segments: one that shows a student-developed procedure with at least one paramater + one showing where said student-developed procedure is being called. Student describes identified procedure and how it contributes to overall functionality.|Response includes a student-developed procedure, clone+movement+range, with five parameters that are used in the procedure + includes a call in the procedure. Student describes the functionality of the procedure + states how the procedure contributes to the overall functionality of the program.|\n",
    "|Algorithm Implementation|1|1|Code segment: contains sequincing, selection, + iteration. And is explained in detailed steps how identified algorithm works to the point that someone else could recreate it.|Student develoepd procedure: sequencing, selection (if/else statement), and iteration (for loop). And student response explains in detail how the algorithm in the procedure works so it can be recreated.|\n",
    "|Testing|1|1|Identifies first call, conditions, + result. However, the first calls are misplaced and not answered in section 3c. More importantly though --> |The response does not describe specific arguments that are passed through the parameters. Rather the response explains the alternate coding segments if they were used. The response describes the conditions being tested + describes the code segments rather than the result of the call.|"
   ]
  }
 ],
 "metadata": {
  "kernelspec": {
   "display_name": "Python 3",
   "language": "python",
   "name": "python3"
  },
  "language_info": {
   "name": "python",
   "version": "3.10.4 (v3.10.4:9d38120e33, Mar 23 2022, 17:29:05) [Clang 13.0.0 (clang-1300.0.29.30)]"
  },
  "orig_nbformat": 4,
  "vscode": {
   "interpreter": {
    "hash": "aee8b7b246df8f9039afb4144a1f6fd8d2ca17a180786b69acc140d282b71a49"
   }
  }
 },
 "nbformat": 4,
 "nbformat_minor": 2
}
