{
 "cells": [
  {
   "cell_type": "code",
   "execution_count": 4,
   "metadata": {},
   "outputs": [
    {
     "name": "stdout",
     "output_type": "stream",
     "text": [
      "[0, 1, 6, 9]\n",
      "Maximum score: 9\n"
     ]
    }
   ],
   "source": [
    "import random\n",
    "\n",
    "randomNumber = []\n",
    "i = 1 \n",
    "while i <= 4:\n",
    "    num = random.randint(0,10) \n",
    "    randomNumber.append(num)\n",
    "    i = i +1 \n",
    "\n",
    "def sort(randomNumber):\n",
    "    for index in range(1,len(randomNumber)): # repeats through length of the array\n",
    "        value = randomNumber[index]\n",
    "        i = index - 1\n",
    "        while i >= 0:\n",
    "            if value < randomNumber[i]:\n",
    "                randomNumber[i+1] = randomNumber[i] # shift number in slot i to the right\n",
    "                randomNumber[i] = value # shift value left into slot i\n",
    "                i = i - 1\n",
    "            else:\n",
    "                break\n",
    "\n",
    "sort(randomNumber)\n",
    "print(randomNumber)\n",
    "\n",
    "\n",
    "# print(\"Length\", len(randomNumber))\n",
    "print(\"Maximum score:\", randomNumber[len(randomNumber)-1])"
   ]
  }
 ],
 "metadata": {
  "kernelspec": {
   "display_name": "Python 3.10.4 64-bit",
   "language": "python",
   "name": "python3"
  },
  "language_info": {
   "codemirror_mode": {
    "name": "ipython",
    "version": 3
   },
   "file_extension": ".py",
   "mimetype": "text/x-python",
   "name": "python",
   "nbconvert_exporter": "python",
   "pygments_lexer": "ipython3",
   "version": "3.10.4"
  },
  "orig_nbformat": 4,
  "vscode": {
   "interpreter": {
    "hash": "aee8b7b246df8f9039afb4144a1f6fd8d2ca17a180786b69acc140d282b71a49"
   }
  }
 },
 "nbformat": 4,
 "nbformat_minor": 2
}
