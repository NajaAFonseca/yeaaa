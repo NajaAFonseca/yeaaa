{
 "cells": [
  {
   "cell_type": "markdown",
   "metadata": {},
   "source": []
  },
  {
   "cell_type": "markdown",
   "metadata": {},
   "source": [
    "# \"Del Norte Athletic.net App\"\n",
    "> A blog of my journey making my app.\n",
    "\n",
    "- toc: true\n",
    "- branch: master\n",
    "- badges: true\n",
    "- comments: true\n",
    "- author: Naja Fonseca\n",
    "- categories: [markdown, jupyter]"
   ]
  },
  {
   "cell_type": "markdown",
   "metadata": {},
   "source": [
    "## Design\n",
    "\n",
    "### Program Purpose and Function\n",
    "\n",
    "The purpose of this program was to establish an app that would wow Mr. Yeung and get me extra credit. \n",
    "\n",
    "Code that makes up the app:\n",
    "- onEvent\n",
    "- console.log\n",
    "- variable\n",
    "- if, else, elseif\n",
    "- setScreen\n",
    "- getText\n",
    "- ==\n",
    "- // \n",
    "\n",
    "**onEvent** - I used this code to start a function that lead to a button or option being clicked. \n",
    "\n",
    "**console.log** - used to log all of my code in the console.\n",
    "\n",
    "**variable** - I used a variable to define a dropdown menu in order to seperate the options of my dropdown menu.\n",
    "\n",
    "**if, else, elseif** - I used this code to make it so my dropdown options would be able to be clicked seperately (took a lot of googling to figure this one out).\n",
    "\n",
    "**setScreen** - used to redirect to a certain screen, normally initiated by a button.\n",
    "\n",
    "**getText** - used to tell the if else command what to do in case of a certain text clicked.\n",
    "\n",
    "**==** - used to see if certain options were equal leading to other parts of code.\n",
    "\n",
    "**//** - used to keep my code organized; comments.\n",
    "\n",
    "### Data Abstraction\n",
    "\n",
    "In my app, all of my data is stored in the console because of the console.log command which tells the console what goes on with each command. \n",
    "\n",
    "## Succeses\n",
    "\n",
    "### Programming\n",
    "\n",
    "I did really well programming code and keeping organized. Along with learning new things and how to use a dropdown menu. It was a lot of google searches but I figured it out and am proud of my code. "
   ]
  }
 ],
 "metadata": {
  "kernelspec": {
   "display_name": "Python 3.10.4 64-bit",
   "language": "python",
   "name": "python3"
  },
  "language_info": {
   "name": "python",
   "version": "3.10.4"
  },
  "orig_nbformat": 4,
  "vscode": {
   "interpreter": {
    "hash": "aee8b7b246df8f9039afb4144a1f6fd8d2ca17a180786b69acc140d282b71a49"
   }
  }
 },
 "nbformat": 4,
 "nbformat_minor": 2
}
