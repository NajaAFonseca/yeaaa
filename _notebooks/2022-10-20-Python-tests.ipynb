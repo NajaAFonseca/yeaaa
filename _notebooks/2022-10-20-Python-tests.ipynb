{
 "cells": [
  {
   "cell_type": "code",
   "execution_count": 1,
   "metadata": {},
   "outputs": [
    {
     "name": "stdout",
     "output_type": "stream",
     "text": [
      "id of 5 = 4338008432\n",
      "id of a = 4338008432\n",
      "id of b = 4338008432\n",
      "id of c = 4440827152\n"
     ]
    }
   ],
   "source": [
    "# id of 5\n",
    "print(\"id of 5 =\", id(5))\n",
    "\n",
    "a = 5\n",
    "\n",
    "# id of a\n",
    "print(\"id of a =\", id(a))\n",
    "\n",
    "b = a\n",
    "\n",
    "# id of b\n",
    "print(\"id of b =\", id(b))\n",
    "\n",
    "c = 5.0\n",
    "\n",
    "# id of c\n",
    "print(\"id of c =\", id(c))"
   ]
  }
 ],
 "metadata": {
  "kernelspec": {
   "display_name": "Python 3.10.4 64-bit",
   "language": "python",
   "name": "python3"
  },
  "language_info": {
   "codemirror_mode": {
    "name": "ipython",
    "version": 3
   },
   "file_extension": ".py",
   "mimetype": "text/x-python",
   "name": "python",
   "nbconvert_exporter": "python",
   "pygments_lexer": "ipython3",
   "version": "3.10.4 (v3.10.4:9d38120e33, Mar 23 2022, 17:29:05) [Clang 13.0.0 (clang-1300.0.29.30)]"
  },
  "orig_nbformat": 4,
  "vscode": {
   "interpreter": {
    "hash": "aee8b7b246df8f9039afb4144a1f6fd8d2ca17a180786b69acc140d282b71a49"
   }
  }
 },
 "nbformat": 4,
 "nbformat_minor": 2
}
