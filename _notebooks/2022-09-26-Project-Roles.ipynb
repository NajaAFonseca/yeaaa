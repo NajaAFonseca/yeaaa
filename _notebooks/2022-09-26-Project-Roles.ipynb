{
 "cells": [
  {
   "cell_type": "markdown",
   "metadata": {},
   "source": [
    "# \"Project and Roles\"\n",
    "> Learning and practicing with Javscript.\n",
    "\n",
    "- toc: true\n",
    "- branch: master\n",
    "- badges: true\n",
    "- comments: true\n",
    "- author: Naja Fonseca\n",
    "- categories: [markdown, jupyter]"
   ]
  },
  {
   "cell_type": "markdown",
   "metadata": {},
   "source": [
    "# Our Project\n",
    "\n",
    "Our project is going to be a game that we create as team. We were thinking of creating a snake game as a team. \n",
    "\n",
    "# Roles\n",
    "\n",
    "Lydia: Scrum Master\n",
    "\n",
    "Lina: DevOps\n",
    "\n",
    "Naja: Backend Developer\n",
    "\n",
    "Dylan: Frontend Developer\n",
    "\n",
    "\n",
    "\n",
    "### Plan and Goals\n",
    "\n",
    "Our plan to complete this project is to:\n",
    "\n",
    "1. Follow given instructions\n",
    "\n",
    "2. Sprint Planning\n",
    "\n",
    "3. Job Assignment\n",
    "\n",
    "\n",
    "Overall:\n",
    "\n",
    "- Meet every 24 hours throughout our Sprint\n",
    "- and complete our PROJECT!"
   ]
  }
 ],
 "metadata": {
  "kernelspec": {
   "display_name": "Python 3.10.4 64-bit",
   "language": "python",
   "name": "python3"
  },
  "language_info": {
   "name": "python",
   "version": "3.10.4"
  },
  "orig_nbformat": 4,
  "vscode": {
   "interpreter": {
    "hash": "aee8b7b246df8f9039afb4144a1f6fd8d2ca17a180786b69acc140d282b71a49"
   }
  }
 },
 "nbformat": 4,
 "nbformat_minor": 2
}
