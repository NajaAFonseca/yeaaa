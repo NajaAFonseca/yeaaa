{
 "cells": [
  {
   "cell_type": "markdown",
   "metadata": {},
   "source": [
    "# \"Quiz Blog\"\n",
    "> A blog of my journey making my quiz.\n",
    "\n",
    "- toc: true\n",
    "- branch: master\n",
    "- badges: true\n",
    "- comments: true\n",
    "- author: Naja Fonseca\n",
    "- categories: [markdown, jupyter]"
   ]
  },
  {
   "cell_type": "markdown",
   "metadata": {},
   "source": [
    "## Design\n",
    "\n",
    "### Program Purpose and Function\n",
    "\n",
    "The purpose of this program was to create a simple, fun, and educational quiz about colors. \n",
    "\n",
    "Code that makes the function:\n",
    "- onEvent\n",
    "- console.log\n",
    "- setScreen\n",
    "\n",
    "The onEvent function was used to describe an even that ocurred along with what made that event happen. In my program, I mainly used the onEvent button to start a function that would lead to the effects of a button being clicked. I start the onEvent by declaring what page or what button the event is happening on and what will happen to that page or button. \n",
    "\n",
    "From there, I have my function which includes both a console.log and setScreen piece of code. console.log is a piece of code that tells you what your code is doing in your console. I start with a console.log to **log** what my code is doing so I can easily track my code. Next, I used a setScreen piece of code because each button in my quiz lead to a different page; setScreen basically sets the screen after I run the onEvent. For example, in my code if you clicked a correct answer, it brought you to the correct answer page. "
   ]
  },
  {
   "cell_type": "markdown",
   "metadata": {},
   "source": [
    " ### Data Abstraction\n",
    "\n",
    "In my quiz, all of my data is stored in the console because I used the console.log code to track what my code was doing."
   ]
  },
  {
   "cell_type": "markdown",
   "metadata": {},
   "source": [
    "## Succeses\n",
    "\n",
    "### Programming\n",
    "\n",
    "Overall, I think I did really well creating a simple quiz with code. I used most of the same repititionary code to finish this quiz easily and had a lot of fun.\n",
    "\n",
    "### Organizing\n",
    "\n",
    "I mostly enjoyed organizing my code by adding comments and using the command console.log to **log** things in my console. I couldn't have been more happy with how my simple quiz turned out! :)"
   ]
  },
  {
   "cell_type": "markdown",
   "metadata": {},
   "source": [
    "### My Quiz\n",
    "\n",
    "![]({{site.baseurl}}/images/quiz-blog.JPG)"
   ]
  }
 ],
 "metadata": {
  "kernelspec": {
   "display_name": "Python 3.10.4 64-bit",
   "language": "python",
   "name": "python3"
  },
  "language_info": {
   "name": "python",
   "version": "3.10.4"
  },
  "orig_nbformat": 4,
  "vscode": {
   "interpreter": {
    "hash": "aee8b7b246df8f9039afb4144a1f6fd8d2ca17a180786b69acc140d282b71a49"
   }
  }
 },
 "nbformat": 4,
 "nbformat_minor": 2
}
