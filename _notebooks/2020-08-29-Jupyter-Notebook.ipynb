{
 "cells": [
  {
   "cell_type": "markdown",
   "metadata": {},
   "source": [
    "# \"Jupyter Notebook\"\n",
    "> First jupyter post and python quiz\n",
    "\n",
    "- toc: true\n",
    "- branch: master\n",
    "- badges: true\n",
    "- comments: true\n",
    "- author: Naja Fonseca\n",
    "- categories: [fastpages, jupyter]"
   ]
  },
  {
   "cell_type": "markdown",
   "metadata": {},
   "source": [
    "### First Jupyter Notebook Use:"
   ]
  },
  {
   "cell_type": "code",
   "execution_count": null,
   "metadata": {},
   "outputs": [],
   "source": [
    "msg = \"This is my Jupyter Notebook! :D\"\n",
    "print (msg)"
   ]
  },
  {
   "cell_type": "markdown",
   "metadata": {},
   "source": [
    "### My Python Quiz"
   ]
  },
  {
   "cell_type": "code",
   "execution_count": 1,
   "metadata": {},
   "outputs": [
    {
     "name": "stdout",
     "output_type": "stream",
     "text": [
      "Hey, najafonseca running /usr/local/bin/python3\n",
      "You will be asked 6 questions. Are you ready to take a fun test!? :D Respond with 'ok' to continue.\n",
      "Question: What command is used to include other functions that are developed?\n",
      "import is correct!\n",
      "Question: What command in this example is used to evaluate a response?\n",
      "if is correct!\n",
      "Question: Each 'if' command contains an '_________' to determine a true or false condition?\n",
      "expression is correct!\n",
      "The next 3 set of questions will be True or False. Please respond with either capital 'True' or 'False' Good luck and good job so far!\n",
      "Question: True or False: The print command outputs the paramater to the terminal.\n",
      "True is correct!\n",
      "Question: True or False: Output in Jupyter is below the code cell.\n",
      "True is correct!\n",
      "Question: True or False: Static text changes.\n",
      "False is correct!\n",
      "najafonseca you scored 6/6\n"
     ]
    }
   ],
   "source": [
    "import getpass, sys\n",
    "\n",
    "#create function question_with_response \n",
    "def question_with_response(prompt):\n",
    "    print(\"Question: \" + prompt)\n",
    "    msg = input()\n",
    "    return msg\n",
    "\n",
    "#create variables for questions and number of correct\n",
    "questions = 6\n",
    "correct = 0\n",
    "\n",
    "#create function question_and_answer\n",
    "def question_and_answer(prompt):\n",
    "    msg = input()\n",
    "    return msg\n",
    "\n",
    "#start quiz by saying hi to user and asking if they are ready to take the test\n",
    "print('Hey, ' + getpass.getuser() + \" running \" + sys.executable)\n",
    "print(\"You will be asked \" + str(questions) + \" questions. Are you ready to take a fun test!? :D Respond with 'ok' to continue.\")\n",
    "question_and_answer(\"Are you ready to take a fun test!?\")\n",
    "\n",
    "#ask first question\n",
    "rsp = question_with_response(\"What command is used to include other functions that are developed?\")\n",
    "\n",
    "#run command if correct add point\n",
    "if rsp == \"import\":\n",
    "    print(rsp + \" is correct!\")\n",
    "    correct += 1\n",
    "# run else command if incorrect, no point\n",
    "else:\n",
    "    print(rsp + \" is incorrect!\")\n",
    "\n",
    "#ask second question\n",
    "rsp = question_with_response(\"What command in this example is used to evaluate a response?\")\n",
    "\n",
    "#run command if correct add point\n",
    "if rsp == \"if\":\n",
    "    print(rsp + \" is correct!\")\n",
    "    correct += 1\n",
    "#run else command if incorrect, no point\n",
    "else:\n",
    "    print(rsp + \" is incorrect!\")\n",
    "\n",
    "#ask third question\n",
    "rsp = question_with_response(\"Each 'if' command contains an '_________' to determine a true or false condition?\")\n",
    "\n",
    "#run command if correct add point\n",
    "if rsp == \"expression\":\n",
    "    print(rsp + \" is correct!\")\n",
    "    correct += 1\n",
    "# run else command if incorrect, no point\n",
    "else:\n",
    "    print(rsp + \" is incorrect!\")\n",
    "    \n",
    "#Introduce what type of questions will be next\n",
    "print (\"The next 3 set of questions will be True or False. Please respond with either capital 'True' or 'False' Good luck and good job so far!\")\n",
    "    \n",
    "#ask fourth question\n",
    "rsp = question_with_response(\"True or False: The print command outputs the paramater to the terminal.\")\n",
    "\n",
    "#run command if correct add point\n",
    "if rsp == \"True\":\n",
    "    print(rsp + \" is correct!\")\n",
    "    correct += 1\n",
    "#run else command if incorrect, no point\n",
    "else:\n",
    "    print(rsp + \" is incorrect!\")\n",
    "    \n",
    "#ask fifth question\n",
    "rsp = question_with_response(\"True or False: Output in Jupyter is below the code cell.\")\n",
    "\n",
    "#run command if correct add point\n",
    "if rsp == \"True\":\n",
    "    print(rsp + \" is correct!\")\n",
    "    correct += 1\n",
    "#run else command if incorrect, no point\n",
    "else:\n",
    "    print(rsp + \" is incorrect!\")\n",
    "    \n",
    "#ask sixth question\n",
    "rsp = question_with_response(\"True or False: Static text changes.\")\n",
    "\n",
    "#run command if correct add point\n",
    "if rsp == \"False\":\n",
    "    print(rsp + \" is correct!\")\n",
    "    correct += 1\n",
    "#run else command if incorrect, no point\n",
    "else:\n",
    "    print(rsp + \" is incorrect!\")\n",
    "\n",
    "# tell user their score\n",
    "print(getpass.getuser() + \" you scored \" + str(correct) +\"/\" + str(questions))"
   ]
  }
 ],
 "metadata": {
  "kernelspec": {
   "display_name": "Python 3.10.4 64-bit",
   "language": "python",
   "name": "python3"
  },
  "language_info": {
   "codemirror_mode": {
    "name": "ipython",
    "version": 3
   },
   "file_extension": ".py",
   "mimetype": "text/x-python",
   "name": "python",
   "nbconvert_exporter": "python",
   "pygments_lexer": "ipython3",
   "version": "3.10.4"
  },
  "orig_nbformat": 4,
  "vscode": {
   "interpreter": {
    "hash": "aee8b7b246df8f9039afb4144a1f6fd8d2ca17a180786b69acc140d282b71a49"
   }
  }
 },
 "nbformat": 4,
 "nbformat_minor": 2
}
