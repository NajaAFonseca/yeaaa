{
 "cells": [
  {
   "cell_type": "markdown",
   "metadata": {},
   "source": [
    "# \"Javascript Practice\"\n",
    "> Learning and practicing with Javscript.\n",
    "\n",
    "- toc: true\n",
    "- branch: master\n",
    "- badges: true\n",
    "- comments: true\n",
    "- author: Naja Fonseca\n",
    "- categories: [markdown, jupyter, javascript]"
   ]
  },
  {
   "cell_type": "code",
   "execution_count": 1,
   "metadata": {},
   "outputs": [
    {
     "name": "stdout",
     "output_type": "stream",
     "text": [
      "Test practice variables and a message!\n"
     ]
    }
   ],
   "source": [
    "var msg = \"Test practice variables and a message!\";\n",
    "console.log(msg);"
   ]
  },
  {
   "cell_type": "markdown",
   "metadata": {},
   "source": [
    "### Dynamic or Loosely typed language (string, number)\n",
    "<mark>JavaScript is a loosely typed language</mark>, meaning you don't have to specify what type of information will be stored in a variable in advance.  The variable type is determined at runtime.  This is similar to Python and most interpretive languages.  Java which is a compiled language is strongly typed, thus you will see string, integer, double, and object in the source code. In JavaScript, the \"typeof\" keyword returns the type."
   ]
  },
  {
   "cell_type": "code",
   "execution_count": 4,
   "metadata": {},
   "outputs": [
    {
     "name": "stdout",
     "output_type": "stream",
     "text": [
      "WEEEEEEEEEEEEEEEEEEE\n",
      "string ; Hello Mr. Yeung!\n",
      "number ; 2022\n",
      "object ; [ 1, 2, 3 ]\n"
     ]
    }
   ],
   "source": [
    "function logItType(output) {\n",
    "    console.log(typeof output, \";\", output);\n",
    "}\n",
    "console.log(\"WEEEEEEEEEEEEEEEEEEE\")\n",
    "logItType(\"Hello Mr. Yeung!\"); // String\n",
    "logItType(2022);    // Number\n",
    "logItType([1, 2, 3]);  // Object is generic for this Array, which similar to Python List"
   ]
  },
  {
   "cell_type": "markdown",
   "metadata": {},
   "source": [
    "### Building a Person Function/Class object and JSON\n",
    "\n",
    "Input you, mr yeung as the person with teacher role, idk your github name, and your class of date! Also set yorur role to 'Best Teacher :D' cause you're just better (give me an A pls)!!!"
   ]
  },
  {
   "cell_type": "code",
   "execution_count": 11,
   "metadata": {},
   "outputs": [
    {
     "name": "stdout",
     "output_type": "stream",
     "text": [
      "object ; Person {\n",
      "  name: 'Mr. Yeung',\n",
      "  ghID: 'idk',\n",
      "  classOf: 2013,\n",
      "  role: 'Best Teacher :D' }\n",
      "string ; {\"name\":\"Mr. Yeung\",\"ghID\":\"idk\",\"classOf\":2013,\"role\":\"Best Teacher :D\"}\n"
     ]
    }
   ],
   "source": [
    "// define a function to hold data for a Person AKA MEEEEE\n",
    "function Person(name, ghID, classOf) {\n",
    "    this.name = name;\n",
    "    this.ghID = ghID;\n",
    "    this.classOf = classOf;\n",
    "    this.role = \"\";\n",
    "}\n",
    "\n",
    "// define a setter for role in Person data\n",
    "Person.prototype.setRole = function(role) {\n",
    "    this.role = role;\n",
    "}\n",
    "\n",
    "// define a JSON conversion \"method\" associated with Person\n",
    "Person.prototype.toJSON = function() {\n",
    "    const obj = {name: this.name, ghID: this.ghID, classOf: this.classOf, role: this.role};\n",
    "    const json = JSON.stringify(obj);\n",
    "    return json;\n",
    "}\n",
    "\n",
    "// make a new Person and assign to variable teacher\n",
    "var teacher = new Person(\"Mr. Yeung\", \"idk\", 2013);\n",
    "teacher.setRole(\"Coolest Teacher :D\"); // and best teacher frfr\n",
    "\n",
    "// output of Object and JSON/string associated with Teacher\n",
    "logItType(teacher);  // object type is easy to work with in JavaScript\n",
    "logItType(teacher.toJSON());  // json/string is useful when passing data on internet"
   ]
  },
  {
   "cell_type": "markdown",
   "metadata": {},
   "source": [
    "### Making the Classroom "
   ]
  },
  {
   "cell_type": "code",
   "execution_count": 12,
   "metadata": {},
   "outputs": [
    {
     "name": "stdout",
     "output_type": "stream",
     "text": [
      "object ; [ Person { name: 'Mr. Yeung', ghID: 'idk', classOf: 2013, role: 'Teacher' },\n",
      "  Person {\n",
      "    name: 'Naja',\n",
      "    ghID: 'NajaAFonseca',\n",
      "    classOf: 2025,\n",
      "    role: 'Student' },\n",
      "  Person {\n",
      "    name: 'Lydia',\n",
      "    ghID: 'lydia-c2',\n",
      "    classOf: 2024,\n",
      "    role: 'Student' },\n",
      "  Person {\n",
      "    name: 'Lina',\n",
      "    ghID: 'linaawad1',\n",
      "    classOf: 2024,\n",
      "    role: 'Student' },\n",
      "  Person {\n",
      "    name: 'Dylan',\n",
      "    ghID: 'DylanGarrett',\n",
      "    classOf: 2025,\n",
      "    role: 'Student' } ]\n",
      "string ; Mr. Yeung\n",
      "string ; {\"name\":\"Mr. Yeung\",\"ghID\":\"idk\",\"classOf\":2013,\"role\":\"Teacher\"}\n",
      "object ; { name: 'Mr. Yeung', ghID: 'idk', classOf: 2013, role: 'Teacher' }\n"
     ]
    }
   ],
   "source": [
    "// define a student Array of Person(s)\n",
    "var students = [ \n",
    "    new Person(\"Naja\", \"NajaAFonseca\", 2025),\n",
    "    new Person(\"Lydia\", \"lydia-c2\", 2024),\n",
    "    new Person(\"Lina\", \"linaawad1\", 2024),\n",
    "    new Person(\"Dylan\", \"DylanGarrett\", 2025),\n",
    "];\n",
    "\n",
    "// define a classroom and build Classroom objects and json\n",
    "function Classroom(teacher, students){ // 1 teacher, many student\n",
    "    // start Classroom with Teacher\n",
    "    teacher.setRole(\"Teacher\");\n",
    "    this.teacher = teacher;\n",
    "    this.classroom = [teacher];\n",
    "    // add each Student to Classroom\n",
    "    this.students = students;\n",
    "    this.students.forEach(student => { student.setRole(\"Student\"); this.classroom.push(student); });\n",
    "    // build json/string format of Classroom\n",
    "    this.json = [];\n",
    "    this.classroom.forEach(person => this.json.push(person.toJSON()));\n",
    "}\n",
    "\n",
    "// make a CompSci classroom from formerly defined teacher and students\n",
    "compsci = new Classroom(teacher, students);\n",
    "\n",
    "// output of Objects and JSON in CompSci classroom\n",
    "logItType(compsci.classroom);  // constructed classroom object\n",
    "logItType(compsci.classroom[0].name);  // abstract 1st objects name\n",
    "logItType(compsci.json[0]);  // show json conversion of 1st object to string\n",
    "logItType(JSON.parse(compsci.json[0]));  // show JSON.parse inverse of JSON.stringify"
   ]
  },
  {
   "cell_type": "markdown",
   "metadata": {},
   "source": [
    "### Making a Table :D"
   ]
  },
  {
   "cell_type": "code",
   "execution_count": 13,
   "metadata": {},
   "outputs": [
    {
     "data": {
      "text/html": [
       "<div style='display:inline-block;background:black;border: 2px solid grey;box-shadow: 0.8em 0.4em 0.4em grey;'><table><tr><th><mark>Name</mark></th><th><mark>GitHub ID</mark></th><th><mark>Class Of</mark></th><th><mark>Role</mark></th></tr><tr><td>Mr. Yeung</td><td>idk</td><td>2013</td><td>Teacher</td><tr><tr><td>Naja</td><td>NajaAFonseca</td><td>2025</td><td>Student</td><tr><tr><td>Lydia</td><td>lydia-c2</td><td>2024</td><td>Student</td><tr><tr><td>Lina</td><td>linaawad1</td><td>2024</td><td>Student</td><tr><tr><td>Dylan</td><td>DylanGarrett</td><td>2025</td><td>Student</td><tr></table></div>"
      ]
     },
     "execution_count": 13,
     "metadata": {},
     "output_type": "execute_result"
    }
   ],
   "source": [
    "// define an HTML conversion \"method\" associated with Classroom\n",
    "Classroom.prototype._toHtml = function() {\n",
    "    // HTML Style is build using inline structure\n",
    "    var style = (\n",
    "      \"display:inline-block;\" +\n",
    "      \"background:black;\" +\n",
    "      \"border: 2px solid grey;\" +\n",
    "      \"box-shadow: 0.8em 0.4em 0.4em grey;\"\n",
    "    );\n",
    "  \n",
    "    // HTML Body of Table is build as a series of concatenations (+=)\n",
    "    var body = \"\";\n",
    "    // Heading for Array Columns\n",
    "    body += \"<tr>\";\n",
    "    body += \"<th><mark>\" + \"Name\" + \"</mark></th>\";\n",
    "    body += \"<th><mark>\" + \"GitHub ID\" + \"</mark></th>\";\n",
    "    body += \"<th><mark>\" + \"Class Of\" + \"</mark></th>\";\n",
    "    body += \"<th><mark>\" + \"Role\" + \"</mark></th>\";\n",
    "    body += \"</tr>\";\n",
    "    // Data of Array, iterate through each row of compsci.classroom \n",
    "    for (var row of compsci.classroom) {\n",
    "      // tr for each row, a new line\n",
    "      body += \"<tr>\";\n",
    "      // td for each column of data\n",
    "      body += \"<td>\" + row.name + \"</td>\";\n",
    "      body += \"<td>\" + row.ghID + \"</td>\";\n",
    "      body += \"<td>\" + row.classOf + \"</td>\";\n",
    "      body += \"<td>\" + row.role + \"</td>\";\n",
    "      // tr to end line\n",
    "      body += \"<tr>\";\n",
    "    }\n",
    "  \n",
    "     // Build and HTML fragment of div, table, table body\n",
    "    return (\n",
    "      \"<div style='\" + style + \"'>\" +\n",
    "        \"<table>\" +\n",
    "          body +\n",
    "        \"</table>\" +\n",
    "      \"</div>\"\n",
    "    );\n",
    "  \n",
    "  };\n",
    "  \n",
    "  // IJavaScript HTML processor receive parameter of defined HTML fragment\n",
    "  $$.html(compsci._toHtml());"
   ]
  }
 ],
 "metadata": {
  "kernelspec": {
   "display_name": "JavaScript (Node.js)",
   "language": "javascript",
   "name": "javascript"
  },
  "language_info": {
   "file_extension": ".js",
   "mimetype": "application/javascript",
   "name": "javascript",
   "version": "10.13.0"
  },
  "orig_nbformat": 4,
  "vscode": {
   "interpreter": {
    "hash": "aee8b7b246df8f9039afb4144a1f6fd8d2ca17a180786b69acc140d282b71a49"
   }
  }
 },
 "nbformat": 4,
 "nbformat_minor": 2
}
