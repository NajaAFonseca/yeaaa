{
 "cells": [
  {
   "cell_type": "markdown",
   "metadata": {},
   "source": [
    "# \"Vocabulary and Notes for APCSP\"\n",
    "> If you can't rememember stuff, dont write it down, type it up!\n",
    "\n",
    "- toc: true\n",
    "- branch: master\n",
    "- badges: true\n",
    "- comments: true\n",
    "- author: Naja Fonseca\n",
    "- categories: [markdown, jupyter]"
   ]
  },
  {
   "cell_type": "markdown",
   "metadata": {},
   "source": [
    "## Notes + Vocabulary for Week 1\n",
    "\n",
    "Vocabulary:\n",
    "- Dynamic code: code that can change.\n",
    "- Static texts: unchanging code.\n",
    "- String: strings in python are surrounded by either single quotation marks, or double quotation marks.\n",
    "- Sequence of code: two or more lines of code form a sequence.\n",
    "\n",
    "Code:\n",
    "- Print(): outputs code, either strings, numbers, or variables.\n",
    "- Variables: Variables are containers for storing data values. A variable is created the moment you first assign a value to it.\n",
    "\n",
    "### Introducing Python\n",
    "\n",
    "##### Print Functions and Vocab\n",
    "\n",
    "- In python, the first code you learn to print out is a hello world message.\n",
    "Example below:"
   ]
  },
  {
   "cell_type": "code",
   "execution_count": null,
   "metadata": {},
   "outputs": [],
   "source": [
    "print (\"Hello, World!\")"
   ]
  },
  {
   "cell_type": "markdown",
   "metadata": {},
   "source": [
    "- \"Hello, World\" is a string and strings are static texts.\n",
    "- Static texts are called static texts because they do not change.\n",
    "- The print command outputs the message \"Hello, World!\"\n",
    "- An output is the code that is displayed after it is run."
   ]
  },
  {
   "cell_type": "markdown",
   "metadata": {},
   "source": [
    "##### Variables, Inputs, and Outputs\n",
    "\n",
    "Variable example:"
   ]
  },
  {
   "cell_type": "code",
   "execution_count": 3,
   "metadata": {},
   "outputs": [
    {
     "name": "stdout",
     "output_type": "stream",
     "text": [
      "variable example\n"
     ]
    }
   ],
   "source": [
    "msg = \"variable example\"\n",
    "print (msg)"
   ]
  },
  {
   "cell_type": "markdown",
   "metadata": {},
   "source": [
    "\n",
    "In this code, the variable is \"variable example\" and when you input it as the variable name, \"msg,\" the print function outputs the input."
   ]
  },
  {
   "cell_type": "markdown",
   "metadata": {},
   "source": [
    "##### Functions\n",
    "\n",
    "A function is a block of code which only runs when it is called. You can pass data, known as parameters, into a function. A function can return data as a result.\n",
    "\n",
    "- functions are defined using the def keyword\n",
    "- To call a function, use the function name followed by paranthesis\n",
    "\n",
    "Example for visual:"
   ]
  },
  {
   "cell_type": "code",
   "execution_count": 4,
   "metadata": {},
   "outputs": [
    {
     "name": "stdout",
     "output_type": "stream",
     "text": [
      "Hello from a function\n"
     ]
    }
   ],
   "source": [
    "def my_function():\n",
    "  print(\"Hello from a function\")\n",
    "\n",
    "my_function()"
   ]
  }
 ],
 "metadata": {
  "kernelspec": {
   "display_name": "Python 3.10.4 64-bit",
   "language": "python",
   "name": "python3"
  },
  "language_info": {
   "codemirror_mode": {
    "name": "ipython",
    "version": 3
   },
   "file_extension": ".py",
   "mimetype": "text/x-python",
   "name": "python",
   "nbconvert_exporter": "python",
   "pygments_lexer": "ipython3",
   "version": "3.10.4"
  },
  "orig_nbformat": 4,
  "vscode": {
   "interpreter": {
    "hash": "aee8b7b246df8f9039afb4144a1f6fd8d2ca17a180786b69acc140d282b71a49"
   }
  }
 },
 "nbformat": 4,
 "nbformat_minor": 2
}
