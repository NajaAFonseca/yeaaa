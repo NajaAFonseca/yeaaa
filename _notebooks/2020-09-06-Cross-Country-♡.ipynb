{
 "cells": [
  {
   "cell_type": "markdown",
   "metadata": {},
   "source": [
    "# \"Cross Country ♡\"\n",
    "> My favorite sport is Cross Country, here are my thoughts.\n",
    "\n",
    "\n",
    "- toc: true\n",
    "- branch: master\n",
    "- badges: true\n",
    "- comments: true\n",
    "- author: Naja Fonseca\n",
    "- categories: [markdown]"
   ]
  },
  {
   "cell_type": "markdown",
   "metadata": {},
   "source": [
    "## Why I like Cross Country\n",
    "\n",
    "Cross Country is a team based sport that tests your mental toughness to its limits. It is a horrible sport in all honesty and it would be a lie if I were to say I loved it. But I do... at times. I love the sport because I get to hangout with my friends and some part of running relaxes me becase it takes my mind off of worrying about school while I'm running at practice.\n",
    "\n",
    "Running isn't easy though, as I said. It's a mentally toughening sport and at times you'll definitely want to give up. I like the challenge though and even though I'm dying throughout all the workouts, I like the feeling of accomplishment of being done. "
   ]
  }
 ],
 "metadata": {
  "kernelspec": {
   "display_name": "Python 3.10.4 64-bit",
   "language": "python",
   "name": "python3"
  },
  "language_info": {
   "name": "python",
   "version": "3.10.4"
  },
  "orig_nbformat": 4,
  "vscode": {
   "interpreter": {
    "hash": "aee8b7b246df8f9039afb4144a1f6fd8d2ca17a180786b69acc140d282b71a49"
   }
  }
 },
 "nbformat": 4,
 "nbformat_minor": 2
}
